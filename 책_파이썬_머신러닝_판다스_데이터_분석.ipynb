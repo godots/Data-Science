{
  "nbformat": 4,
  "nbformat_minor": 0,
  "metadata": {
    "colab": {
      "name": "책_파이썬 머신러닝 판다스 데이터 분석.ipynb",
      "provenance": [],
      "toc_visible": true,
      "mount_file_id": "10BwHr-_hZAyVM4xvGqe4d7TCvynhsgq_",
      "authorship_tag": "ABX9TyMedkEV+2xtN6NhpJAe8GqG",
      "include_colab_link": true
    },
    "kernelspec": {
      "name": "python3",
      "display_name": "Python 3"
    }
  },
  "cells": [
    {
      "cell_type": "markdown",
      "metadata": {
        "id": "view-in-github",
        "colab_type": "text"
      },
      "source": [
        "<a href=\"https://colab.research.google.com/github/godots/Data-Science/blob/main/%EC%B1%85_%ED%8C%8C%EC%9D%B4%EC%8D%AC_%EB%A8%B8%EC%8B%A0%EB%9F%AC%EB%8B%9D_%ED%8C%90%EB%8B%A4%EC%8A%A4_%EB%8D%B0%EC%9D%B4%ED%84%B0_%EB%B6%84%EC%84%9D.ipynb\" target=\"_parent\"><img src=\"https://colab.research.google.com/assets/colab-badge.svg\" alt=\"Open In Colab\"/></a>"
      ]
    },
    {
      "cell_type": "markdown",
      "metadata": {
        "id": "EJUUR3cHhDnh"
      },
      "source": [
        ""
      ]
    },
    {
      "cell_type": "markdown",
      "metadata": {
        "id": "DhjDg-gPhEgt"
      },
      "source": [
        "# 기본"
      ]
    },
    {
      "cell_type": "markdown",
      "metadata": {
        "id": "_XzkY0YehEgt"
      },
      "source": [
        "## 시리즈"
      ]
    },
    {
      "cell_type": "code",
      "metadata": {
        "id": "jG4SoTAbhEgu"
      },
      "source": [
        "import pandas as pd\n",
        "import seaborn as sns"
      ],
      "execution_count": null,
      "outputs": []
    },
    {
      "cell_type": "code",
      "metadata": {
        "id": "MG-EHyqYhEgv"
      },
      "source": [
        "dict_data = {'a':1, 'b':2, 'c':3}"
      ],
      "execution_count": null,
      "outputs": []
    },
    {
      "cell_type": "code",
      "metadata": {
        "id": "hC0KI1EyhEgv"
      },
      "source": [
        "sr = pd.Series(dict_data)"
      ],
      "execution_count": null,
      "outputs": []
    },
    {
      "cell_type": "code",
      "metadata": {
        "colab": {
          "base_uri": "https://localhost:8080/"
        },
        "id": "h8ESxSHKhEgv",
        "outputId": "a27e1088-c3cf-476d-d7f6-a1d9f4ebb0bb"
      },
      "source": [
        "sr"
      ],
      "execution_count": null,
      "outputs": [
        {
          "output_type": "execute_result",
          "data": {
            "text/plain": [
              "a    1\n",
              "b    2\n",
              "c    3\n",
              "dtype: int64"
            ]
          },
          "metadata": {
            "tags": []
          },
          "execution_count": 5
        }
      ]
    },
    {
      "cell_type": "code",
      "metadata": {
        "colab": {
          "base_uri": "https://localhost:8080/"
        },
        "id": "rtkNtEtehEgx",
        "outputId": "3e2913cc-fd31-4661-e9e6-a4533fc69c2c"
      },
      "source": [
        "type(sr)"
      ],
      "execution_count": null,
      "outputs": [
        {
          "output_type": "execute_result",
          "data": {
            "text/plain": [
              "pandas.core.series.Series"
            ]
          },
          "metadata": {
            "tags": []
          },
          "execution_count": 6
        }
      ]
    },
    {
      "cell_type": "code",
      "metadata": {
        "colab": {
          "base_uri": "https://localhost:8080/"
        },
        "id": "lsjQbMoIhEgx",
        "outputId": "fecfad3a-d697-44a9-b2ef-d34a81e110fd"
      },
      "source": [
        "tup_data = ('영인','2010-05-01','여',True)\n",
        "sr = pd.Series(tup_data, index=['이름','생년월일','성별','학생여부'])\n",
        "sr"
      ],
      "execution_count": null,
      "outputs": [
        {
          "output_type": "execute_result",
          "data": {
            "text/plain": [
              "이름              영인\n",
              "생년월일    2010-05-01\n",
              "성별               여\n",
              "학생여부          True\n",
              "dtype: object"
            ]
          },
          "metadata": {
            "tags": []
          },
          "execution_count": 7
        }
      ]
    },
    {
      "cell_type": "code",
      "metadata": {
        "colab": {
          "base_uri": "https://localhost:8080/",
          "height": 35
        },
        "id": "R_ajSM3ahEgy",
        "outputId": "2c41fd3e-145c-40b2-fd44-3ddefc428e85"
      },
      "source": [
        "# 원소 선택\n",
        "sr[0]"
      ],
      "execution_count": null,
      "outputs": [
        {
          "output_type": "execute_result",
          "data": {
            "application/vnd.google.colaboratory.intrinsic+json": {
              "type": "string"
            },
            "text/plain": [
              "'영인'"
            ]
          },
          "metadata": {
            "tags": []
          },
          "execution_count": 8
        }
      ]
    },
    {
      "cell_type": "code",
      "metadata": {
        "colab": {
          "base_uri": "https://localhost:8080/",
          "height": 35
        },
        "id": "bq1GNeIqhEgy",
        "outputId": "829fde2e-732b-4835-fc1f-2f3af6abc108"
      },
      "source": [
        "sr['이름']"
      ],
      "execution_count": null,
      "outputs": [
        {
          "output_type": "execute_result",
          "data": {
            "application/vnd.google.colaboratory.intrinsic+json": {
              "type": "string"
            },
            "text/plain": [
              "'영인'"
            ]
          },
          "metadata": {
            "tags": []
          },
          "execution_count": 9
        }
      ]
    },
    {
      "cell_type": "code",
      "metadata": {
        "colab": {
          "base_uri": "https://localhost:8080/"
        },
        "id": "xY_prm-9hEgy",
        "outputId": "5e87d60a-e09d-4838-90f6-cb44486e3913"
      },
      "source": [
        "sr[1:3]\n",
        "# 인덱스를 사용할 때 범위 끝이 포함되지 않음"
      ],
      "execution_count": null,
      "outputs": [
        {
          "output_type": "execute_result",
          "data": {
            "text/plain": [
              "생년월일    2010-05-01\n",
              "성별               여\n",
              "dtype: object"
            ]
          },
          "metadata": {
            "tags": []
          },
          "execution_count": 10
        }
      ]
    },
    {
      "cell_type": "markdown",
      "metadata": {
        "id": "hmVYtrj9hEgz"
      },
      "source": [
        "## 데이터프레임"
      ]
    },
    {
      "cell_type": "code",
      "metadata": {
        "id": "PFkEQT3EhEgz"
      },
      "source": [
        "df = pd.DataFrame([[15,'남','덕영중'], [17,'여','수리중']],\n",
        "                  index=['준서','예은'],\n",
        "                  columns=['나이','성별','학교'])"
      ],
      "execution_count": null,
      "outputs": []
    },
    {
      "cell_type": "code",
      "metadata": {
        "colab": {
          "base_uri": "https://localhost:8080/",
          "height": 110
        },
        "id": "KxFCe-ddhEgz",
        "outputId": "a414fe7d-781d-4925-894c-52ae8c106180"
      },
      "source": [
        "df"
      ],
      "execution_count": null,
      "outputs": [
        {
          "output_type": "execute_result",
          "data": {
            "text/html": [
              "<div>\n",
              "<style scoped>\n",
              "    .dataframe tbody tr th:only-of-type {\n",
              "        vertical-align: middle;\n",
              "    }\n",
              "\n",
              "    .dataframe tbody tr th {\n",
              "        vertical-align: top;\n",
              "    }\n",
              "\n",
              "    .dataframe thead th {\n",
              "        text-align: right;\n",
              "    }\n",
              "</style>\n",
              "<table border=\"1\" class=\"dataframe\">\n",
              "  <thead>\n",
              "    <tr style=\"text-align: right;\">\n",
              "      <th></th>\n",
              "      <th>나이</th>\n",
              "      <th>성별</th>\n",
              "      <th>학교</th>\n",
              "    </tr>\n",
              "  </thead>\n",
              "  <tbody>\n",
              "    <tr>\n",
              "      <th>준서</th>\n",
              "      <td>15</td>\n",
              "      <td>남</td>\n",
              "      <td>덕영중</td>\n",
              "    </tr>\n",
              "    <tr>\n",
              "      <th>예은</th>\n",
              "      <td>17</td>\n",
              "      <td>여</td>\n",
              "      <td>수리중</td>\n",
              "    </tr>\n",
              "  </tbody>\n",
              "</table>\n",
              "</div>"
            ],
            "text/plain": [
              "    나이 성별   학교\n",
              "준서  15  남  덕영중\n",
              "예은  17  여  수리중"
            ]
          },
          "metadata": {
            "tags": []
          },
          "execution_count": 12
        }
      ]
    },
    {
      "cell_type": "code",
      "metadata": {
        "colab": {
          "base_uri": "https://localhost:8080/"
        },
        "id": "CnqU5znBhEg0",
        "outputId": "81f50fa1-d56f-4728-b6ff-3321f56a7303"
      },
      "source": [
        "df.index"
      ],
      "execution_count": null,
      "outputs": [
        {
          "output_type": "execute_result",
          "data": {
            "text/plain": [
              "Index(['준서', '예은'], dtype='object')"
            ]
          },
          "metadata": {
            "tags": []
          },
          "execution_count": 13
        }
      ]
    },
    {
      "cell_type": "code",
      "metadata": {
        "colab": {
          "base_uri": "https://localhost:8080/",
          "height": 141
        },
        "id": "GpmquLDlhEg0",
        "outputId": "ede0cc85-b72a-4e28-aa0f-a2d800ef0a60"
      },
      "source": [
        "# 행과 열의 위치 바꾸기 : 마치 엑셀의 행열 바꿔 붙여넣기 하듯이.\n",
        "df = df.transpose()\n",
        "df"
      ],
      "execution_count": null,
      "outputs": [
        {
          "output_type": "execute_result",
          "data": {
            "text/html": [
              "<div>\n",
              "<style scoped>\n",
              "    .dataframe tbody tr th:only-of-type {\n",
              "        vertical-align: middle;\n",
              "    }\n",
              "\n",
              "    .dataframe tbody tr th {\n",
              "        vertical-align: top;\n",
              "    }\n",
              "\n",
              "    .dataframe thead th {\n",
              "        text-align: right;\n",
              "    }\n",
              "</style>\n",
              "<table border=\"1\" class=\"dataframe\">\n",
              "  <thead>\n",
              "    <tr style=\"text-align: right;\">\n",
              "      <th></th>\n",
              "      <th>준서</th>\n",
              "      <th>예은</th>\n",
              "    </tr>\n",
              "  </thead>\n",
              "  <tbody>\n",
              "    <tr>\n",
              "      <th>나이</th>\n",
              "      <td>15</td>\n",
              "      <td>17</td>\n",
              "    </tr>\n",
              "    <tr>\n",
              "      <th>성별</th>\n",
              "      <td>남</td>\n",
              "      <td>여</td>\n",
              "    </tr>\n",
              "    <tr>\n",
              "      <th>학교</th>\n",
              "      <td>덕영중</td>\n",
              "      <td>수리중</td>\n",
              "    </tr>\n",
              "  </tbody>\n",
              "</table>\n",
              "</div>"
            ],
            "text/plain": [
              "     준서   예은\n",
              "나이   15   17\n",
              "성별    남    여\n",
              "학교  덕영중  수리중"
            ]
          },
          "metadata": {
            "tags": []
          },
          "execution_count": 14
        }
      ]
    },
    {
      "cell_type": "markdown",
      "metadata": {
        "id": "sqAmqcm8hEg1"
      },
      "source": [
        "## 산술연산"
      ]
    },
    {
      "cell_type": "code",
      "metadata": {
        "colab": {
          "base_uri": "https://localhost:8080/"
        },
        "id": "zRPz6LGjhEg1",
        "outputId": "41a075b1-ae75-4794-eae5-ab6fa808ce75"
      },
      "source": [
        "student= pd.Series({'국어':100,'영어':80,'수학':90})\n",
        "student"
      ],
      "execution_count": null,
      "outputs": [
        {
          "output_type": "execute_result",
          "data": {
            "text/plain": [
              "국어    100\n",
              "영어     80\n",
              "수학     90\n",
              "dtype: int64"
            ]
          },
          "metadata": {
            "tags": []
          },
          "execution_count": 15
        }
      ]
    },
    {
      "cell_type": "code",
      "metadata": {
        "colab": {
          "base_uri": "https://localhost:8080/"
        },
        "id": "eBlKDH5ZhEg1",
        "outputId": "ead774a4-7efd-4f5e-b960-10518f983d42"
      },
      "source": [
        "per = student/200\n",
        "per"
      ],
      "execution_count": null,
      "outputs": [
        {
          "output_type": "execute_result",
          "data": {
            "text/plain": [
              "국어    0.50\n",
              "영어    0.40\n",
              "수학    0.45\n",
              "dtype: float64"
            ]
          },
          "metadata": {
            "tags": []
          },
          "execution_count": 16
        }
      ]
    },
    {
      "cell_type": "code",
      "metadata": {
        "colab": {
          "base_uri": "https://localhost:8080/"
        },
        "id": "ryKc0qgBhEg2",
        "outputId": "bb9f8ae3-025d-4319-d08c-8ba0bafee0f2"
      },
      "source": [
        "# 타이타닉 데이터 불러오기 : seaborn에서 불러온다\n",
        "titanic = sns.load_dataset('titanic')\n",
        "df = titanic.loc[:,['age','fare']]\n",
        "df"
      ],
      "execution_count": null,
      "outputs": [
        {
          "output_type": "execute_result",
          "data": {
            "text/html": [
              "<div>\n",
              "<style scoped>\n",
              "    .dataframe tbody tr th:only-of-type {\n",
              "        vertical-align: middle;\n",
              "    }\n",
              "\n",
              "    .dataframe tbody tr th {\n",
              "        vertical-align: top;\n",
              "    }\n",
              "\n",
              "    .dataframe thead th {\n",
              "        text-align: right;\n",
              "    }\n",
              "</style>\n",
              "<table border=\"1\" class=\"dataframe\">\n",
              "  <thead>\n",
              "    <tr style=\"text-align: right;\">\n",
              "      <th></th>\n",
              "      <th>age</th>\n",
              "      <th>fare</th>\n",
              "    </tr>\n",
              "  </thead>\n",
              "  <tbody>\n",
              "    <tr>\n",
              "      <th>0</th>\n",
              "      <td>22.0</td>\n",
              "      <td>7.2500</td>\n",
              "    </tr>\n",
              "    <tr>\n",
              "      <th>1</th>\n",
              "      <td>38.0</td>\n",
              "      <td>71.2833</td>\n",
              "    </tr>\n",
              "    <tr>\n",
              "      <th>2</th>\n",
              "      <td>26.0</td>\n",
              "      <td>7.9250</td>\n",
              "    </tr>\n",
              "    <tr>\n",
              "      <th>3</th>\n",
              "      <td>35.0</td>\n",
              "      <td>53.1000</td>\n",
              "    </tr>\n",
              "    <tr>\n",
              "      <th>4</th>\n",
              "      <td>35.0</td>\n",
              "      <td>8.0500</td>\n",
              "    </tr>\n",
              "    <tr>\n",
              "      <th>...</th>\n",
              "      <td>...</td>\n",
              "      <td>...</td>\n",
              "    </tr>\n",
              "    <tr>\n",
              "      <th>886</th>\n",
              "      <td>27.0</td>\n",
              "      <td>13.0000</td>\n",
              "    </tr>\n",
              "    <tr>\n",
              "      <th>887</th>\n",
              "      <td>19.0</td>\n",
              "      <td>30.0000</td>\n",
              "    </tr>\n",
              "    <tr>\n",
              "      <th>888</th>\n",
              "      <td>NaN</td>\n",
              "      <td>23.4500</td>\n",
              "    </tr>\n",
              "    <tr>\n",
              "      <th>889</th>\n",
              "      <td>26.0</td>\n",
              "      <td>30.0000</td>\n",
              "    </tr>\n",
              "    <tr>\n",
              "      <th>890</th>\n",
              "      <td>32.0</td>\n",
              "      <td>7.7500</td>\n",
              "    </tr>\n",
              "  </tbody>\n",
              "</table>\n",
              "<p>891 rows × 2 columns</p>\n",
              "</div>"
            ],
            "text/plain": [
              "      age     fare\n",
              "0    22.0   7.2500\n",
              "1    38.0  71.2833\n",
              "2    26.0   7.9250\n",
              "3    35.0  53.1000\n",
              "4    35.0   8.0500\n",
              "..    ...      ...\n",
              "886  27.0  13.0000\n",
              "887  19.0  30.0000\n",
              "888   NaN  23.4500\n",
              "889  26.0  30.0000\n",
              "890  32.0   7.7500\n",
              "\n",
              "[891 rows x 2 columns]"
            ]
          },
          "metadata": {
            "tags": []
          },
          "execution_count": 17
        }
      ]
    },
    {
      "cell_type": "markdown",
      "metadata": {
        "id": "Mgzw_itohEg2"
      },
      "source": [
        "Seaborn에서 사용할 수 있는 dataset의 목록은 get_dataset_names로 한 번에 알 수 있다.\n"
      ]
    },
    {
      "cell_type": "markdown",
      "metadata": {
        "id": "fBCZqpAohEg2"
      },
      "source": [
        "# 파일 불러오기"
      ]
    },
    {
      "cell_type": "code",
      "metadata": {
        "colab": {
          "base_uri": "https://localhost:8080/"
        },
        "id": "WcUGDEEPhEg3",
        "outputId": "ea7b3694-ecee-4b46-ee29-13a56773abed"
      },
      "source": [
        "from google.colab import drive\n",
        "drive.mount('/content/drive')\n",
        "\n",
        "# 실행 > 링크 클릭 > 계정 연결 > 무슨 비번 복사 > 붙여넣기."
      ],
      "execution_count": null,
      "outputs": [
        {
          "output_type": "stream",
          "text": [
            "Drive already mounted at /content/drive; to attempt to forcibly remount, call drive.mount(\"/content/drive\", force_remount=True).\n"
          ],
          "name": "stdout"
        }
      ]
    },
    {
      "cell_type": "code",
      "metadata": {
        "id": "JfMRGcVMhEg3"
      },
      "source": [
        "filename = '/content/sample_data/california_housing_train.csv'\n",
        "\n",
        "# 좌측 탐색기에서 찾아서 우클릭"
      ],
      "execution_count": null,
      "outputs": []
    },
    {
      "cell_type": "code",
      "metadata": {
        "colab": {
          "base_uri": "https://localhost:8080/",
          "height": 222
        },
        "id": "Bow72EcqhEg3",
        "outputId": "c69572a9-8c3b-407e-d49e-7024e04f4593"
      },
      "source": [
        "data = pd.read_csv(filename)\n",
        "data.head()"
      ],
      "execution_count": null,
      "outputs": [
        {
          "output_type": "execute_result",
          "data": {
            "text/html": [
              "<div>\n",
              "<style scoped>\n",
              "    .dataframe tbody tr th:only-of-type {\n",
              "        vertical-align: middle;\n",
              "    }\n",
              "\n",
              "    .dataframe tbody tr th {\n",
              "        vertical-align: top;\n",
              "    }\n",
              "\n",
              "    .dataframe thead th {\n",
              "        text-align: right;\n",
              "    }\n",
              "</style>\n",
              "<table border=\"1\" class=\"dataframe\">\n",
              "  <thead>\n",
              "    <tr style=\"text-align: right;\">\n",
              "      <th></th>\n",
              "      <th>longitude</th>\n",
              "      <th>latitude</th>\n",
              "      <th>housing_median_age</th>\n",
              "      <th>total_rooms</th>\n",
              "      <th>total_bedrooms</th>\n",
              "      <th>population</th>\n",
              "      <th>households</th>\n",
              "      <th>median_income</th>\n",
              "      <th>median_house_value</th>\n",
              "    </tr>\n",
              "  </thead>\n",
              "  <tbody>\n",
              "    <tr>\n",
              "      <th>0</th>\n",
              "      <td>-114.31</td>\n",
              "      <td>34.19</td>\n",
              "      <td>15.0</td>\n",
              "      <td>5612.0</td>\n",
              "      <td>1283.0</td>\n",
              "      <td>1015.0</td>\n",
              "      <td>472.0</td>\n",
              "      <td>1.4936</td>\n",
              "      <td>66900.0</td>\n",
              "    </tr>\n",
              "    <tr>\n",
              "      <th>1</th>\n",
              "      <td>-114.47</td>\n",
              "      <td>34.40</td>\n",
              "      <td>19.0</td>\n",
              "      <td>7650.0</td>\n",
              "      <td>1901.0</td>\n",
              "      <td>1129.0</td>\n",
              "      <td>463.0</td>\n",
              "      <td>1.8200</td>\n",
              "      <td>80100.0</td>\n",
              "    </tr>\n",
              "    <tr>\n",
              "      <th>2</th>\n",
              "      <td>-114.56</td>\n",
              "      <td>33.69</td>\n",
              "      <td>17.0</td>\n",
              "      <td>720.0</td>\n",
              "      <td>174.0</td>\n",
              "      <td>333.0</td>\n",
              "      <td>117.0</td>\n",
              "      <td>1.6509</td>\n",
              "      <td>85700.0</td>\n",
              "    </tr>\n",
              "    <tr>\n",
              "      <th>3</th>\n",
              "      <td>-114.57</td>\n",
              "      <td>33.64</td>\n",
              "      <td>14.0</td>\n",
              "      <td>1501.0</td>\n",
              "      <td>337.0</td>\n",
              "      <td>515.0</td>\n",
              "      <td>226.0</td>\n",
              "      <td>3.1917</td>\n",
              "      <td>73400.0</td>\n",
              "    </tr>\n",
              "    <tr>\n",
              "      <th>4</th>\n",
              "      <td>-114.57</td>\n",
              "      <td>33.57</td>\n",
              "      <td>20.0</td>\n",
              "      <td>1454.0</td>\n",
              "      <td>326.0</td>\n",
              "      <td>624.0</td>\n",
              "      <td>262.0</td>\n",
              "      <td>1.9250</td>\n",
              "      <td>65500.0</td>\n",
              "    </tr>\n",
              "  </tbody>\n",
              "</table>\n",
              "</div>"
            ],
            "text/plain": [
              "   longitude  latitude  ...  median_income  median_house_value\n",
              "0    -114.31     34.19  ...         1.4936             66900.0\n",
              "1    -114.47     34.40  ...         1.8200             80100.0\n",
              "2    -114.56     33.69  ...         1.6509             85700.0\n",
              "3    -114.57     33.64  ...         3.1917             73400.0\n",
              "4    -114.57     33.57  ...         1.9250             65500.0\n",
              "\n",
              "[5 rows x 9 columns]"
            ]
          },
          "metadata": {
            "tags": []
          },
          "execution_count": 20
        }
      ]
    },
    {
      "cell_type": "markdown",
      "metadata": {
        "id": "k2xyd7IChEg3"
      },
      "source": [
        "## 웹에서 표 불러오기 "
      ]
    },
    {
      "cell_type": "code",
      "metadata": {
        "id": "VKKRN4CkhEg4"
      },
      "source": [
        "tables = pd.read_html('https://comp.fnguide.com/SVO2/ASP/SVD_main.asp?pGB=1&gicode=A005930&cID=&MenuYn=Y&ReportGB=&NewMenuID=11&stkGb=&strResearchYN=')"
      ],
      "execution_count": null,
      "outputs": []
    },
    {
      "cell_type": "code",
      "metadata": {
        "colab": {
          "base_uri": "https://localhost:8080/"
        },
        "id": "4vrcdNH8hEg4",
        "outputId": "33cdbd1e-05ac-424a-d812-b9200b4a5d36"
      },
      "source": [
        "len(tables)\n",
        "# 표의 개수를 센다."
      ],
      "execution_count": null,
      "outputs": [
        {
          "output_type": "execute_result",
          "data": {
            "text/plain": [
              "17"
            ]
          },
          "metadata": {
            "tags": []
          },
          "execution_count": 22
        }
      ]
    },
    {
      "cell_type": "code",
      "metadata": {
        "colab": {
          "base_uri": "https://localhost:8080/"
        },
        "id": "lBQNarKWhEg4",
        "outputId": "4a525eda-6a00-41a4-d16e-2c079282ffe2"
      },
      "source": [
        "tables[1]"
      ],
      "execution_count": null,
      "outputs": [
        {
          "output_type": "execute_result",
          "data": {
            "text/html": [
              "<div>\n",
              "<style scoped>\n",
              "    .dataframe tbody tr th:only-of-type {\n",
              "        vertical-align: middle;\n",
              "    }\n",
              "\n",
              "    .dataframe tbody tr th {\n",
              "        vertical-align: top;\n",
              "    }\n",
              "\n",
              "    .dataframe thead th {\n",
              "        text-align: right;\n",
              "    }\n",
              "</style>\n",
              "<table border=\"1\" class=\"dataframe\">\n",
              "  <thead>\n",
              "    <tr style=\"text-align: right;\">\n",
              "      <th></th>\n",
              "      <th>확정실적(영업이익, 억원)</th>\n",
              "      <th>예상실적(영업이익, 억원)</th>\n",
              "      <th>3개월전예상실적대비(%)</th>\n",
              "      <th>전년동기대비(%)</th>\n",
              "    </tr>\n",
              "  </thead>\n",
              "  <tbody>\n",
              "    <tr>\n",
              "      <th>0</th>\n",
              "      <td>93829</td>\n",
              "      <td>NaN</td>\n",
              "      <td>-2.77</td>\n",
              "      <td>45.53</td>\n",
              "    </tr>\n",
              "  </tbody>\n",
              "</table>\n",
              "</div>"
            ],
            "text/plain": [
              "   확정실적(영업이익, 억원)  예상실적(영업이익, 억원)  3개월전예상실적대비(%)  전년동기대비(%)\n",
              "0           93829             NaN          -2.77      45.53"
            ]
          },
          "metadata": {
            "tags": []
          },
          "execution_count": 23
        }
      ]
    },
    {
      "cell_type": "code",
      "metadata": {
        "colab": {
          "base_uri": "https://localhost:8080/"
        },
        "id": "7y8u-6oQhEg4",
        "outputId": "f867840d-96dc-4e80-fcfd-253525e3278d"
      },
      "source": [
        "for i in range(len(tables)):\n",
        "  print(\"tables[%s]\" % i)\n",
        "  print(tables[i])"
      ],
      "execution_count": null,
      "outputs": [
        {
          "output_type": "stream",
          "text": [
            "tables[0]\n",
            "                     0  ...                      3\n",
            "0             종가/ 전일대비  ...               12360199\n",
            "1         52주.최고가/ 최저가  ...                   9887\n",
            "2  수익률(1M/ 3M/ 6M/ 1Y)  ...                  53.64\n",
            "3      시가총액(상장예정포함,억원)  ...                1.10312\n",
            "4         시가총액(보통주,억원)  ...                    100\n",
            "5                  NaN  ...                    NaN\n",
            "6      발행주식수(보통주/ 우선주)  ...  4,455,819,493 / 74.64\n",
            "\n",
            "[7 rows x 4 columns]\n",
            "tables[1]\n",
            "   확정실적(영업이익, 억원)  예상실적(영업이익, 억원)  3개월전예상실적대비(%)  전년동기대비(%)\n",
            "0           93829             NaN          -2.77      45.53\n",
            "tables[2]\n",
            "          운용사명      보유수량     시가평가액  상장주식수내비중  운용사내비중\n",
            "0       삼성자산운용  45392.12  36949.19      0.76    7.49\n",
            "1     미래에셋자산운용  30813.40  25082.10      0.52    6.26\n",
            "2      케이비자산운용  12528.05  10197.84      0.21    4.66\n",
            "3     한국투자신탁운용  12012.78   9778.40      0.20    6.16\n",
            "4       신영자산운용   9035.28   7354.72      0.15   16.01\n",
            "5  엔에이치아문디자산운용   8103.90   6596.58      0.14    4.84\n",
            "6     교보악사자산운용   7039.21   5729.92      0.12    5.63\n",
            "7       신한자산운용   5874.70   4782.00      0.10    2.43\n",
            "8       한화자산운용   5831.85   4747.12      0.10    5.11\n",
            "9     키움투자자산운용   5248.96   4272.66      0.09    3.95\n",
            "tables[3]\n",
            "                               항목         보통주    지분율       최종변동일\n",
            "0                   삼성생명보험(외 16인)  1263093732  21.16  2021/05/03\n",
            "1                          국민연금공단   578352347   9.69  2021/04/06\n",
            "2  BlackRock Fund Advisors(외 15인)   300391061   5.03  2019/01/28\n",
            "3                             이병철      408650   0.01  2018/05/04\n",
            "4                             서병삼       70300   0.00  2018/05/04\n",
            "5                             윤주화       66000   0.00  2018/05/04\n",
            "tables[4]\n",
            "                 주주구분  대표주주수           보통주    지분율       최종변동일\n",
            "0    최대주주등 (본인+특별관계자)    1.0  1.263094e+09  21.16  2021/05/03\n",
            "1  10%이상주주 (본인+특별관계자)    NaN           NaN    NaN         NaN\n",
            "2   5%이상주주 (본인+특별관계자)    2.0  8.787434e+08  14.72  2021/04/06\n",
            "3   임원 (5%미만 중, 임원인자)  228.0  2.152533e+06   0.04  2021/05/18\n",
            "4    자기주식 (자사주+자사주신탁)    NaN           NaN    NaN         NaN\n",
            "5              우리사주조합    NaN           NaN    NaN         NaN\n",
            "tables[5]\n",
            "             KIS             KR           NICE\n",
            "0  관련 데이터가 없습니다.  관련 데이터가 없습니다.  관련 데이터가 없습니다.\n",
            "tables[6]\n",
            "                KIS                KR              NICE\n",
            "0  AAA [2004/05/25]  AAA [2004/06/17]  AAA [2004/06/01]\n",
            "tables[7]\n",
            "   투자의견    목표주가   EPS   PER  추정기관수\n",
            "0   4.0  104650  5343  15.0     20\n",
            "tables[8]\n",
            "          구분        삼성전자   코스피 전기,전자        KOSPI\n",
            "0       시가총액  4781796.00  7677817.00  22287428.00\n",
            "1        매출액  2368070.00  4131074.00  22284635.00\n",
            "2       영업이익   359939.00   475800.00   1424445.00\n",
            "3     EPS(원)     3841.00    16209.19      3823.42\n",
            "4        PER       21.09       19.87        22.38\n",
            "5  EV/EBITDA        8.33        8.06         8.58\n",
            "6        ROE        9.99        9.27         5.26\n",
            "7      배당수익률        3.70        2.80         2.02\n",
            "8     베타(1년)        1.01        1.05         1.00\n",
            "tables[9]\n",
            "          구분        삼성전자   코스피 전기,전자        KOSPI\n",
            "0       시가총액  4781796.00  7677817.00  22287428.00\n",
            "1        매출액  1663112.00  2943704.00  12884343.00\n",
            "2       영업이익   205190.00   272422.00    845788.00\n",
            "3     EPS(원)     2299.00    10180.73      2662.99\n",
            "4        PER       35.24       31.63        32.13\n",
            "5  EV/EBITDA       13.86       12.95        12.57\n",
            "6        ROE        8.65        7.75         4.45\n",
            "7      배당수익률        3.70        2.80         2.02\n",
            "8     베타(1년)        1.01        1.05         1.00\n",
            "tables[10]\n",
            "      IFRS(연결)      Annual              ... Net Quarter                       \n",
            "      IFRS(연결)     2018/12     2019/12  ...     2020/12     2021/03 2021/06(E)\n",
            "0          매출액  2437714.00  2304009.00  ...   615515.00   653885.00  617560.00\n",
            "1         영업이익   588867.00   277685.00  ...    90470.00    93829.00  102832.00\n",
            "2   영업이익(발표기준)   588867.00   277685.00  ...    90470.00    93829.00        NaN\n",
            "3        당기순이익   443449.00   217389.00  ...    66071.00    71417.00   78604.00\n",
            "4      지배주주순이익   438909.00   215051.00  ...    64455.00    70928.00   74551.00\n",
            "5     비지배주주순이익     4540.00     2338.00  ...     1617.00      489.00        NaN\n",
            "6         자산총계  3393572.00  3525645.00  ...  3782357.00  3928263.00        NaN\n",
            "7         부채총계   916041.00   896841.00  ...  1022877.00  1185577.00        NaN\n",
            "8         자본총계  2477532.00  2628804.00  ...  2759480.00  2742686.00        NaN\n",
            "9       지배주주지분  2400690.00  2549155.00  ...  2676703.00  2657673.00        NaN\n",
            "10     비지배주주지분    76842.00    79649.00  ...    82777.00    85013.00        NaN\n",
            "11         자본금     8975.00     8975.00  ...     8975.00     8975.00        NaN\n",
            "12        부채비율       36.97       34.12  ...       37.07       43.23        NaN\n",
            "13         유보율    26648.22    28302.40  ...    29723.53    29511.49        NaN\n",
            "14       영업이익률       24.16       12.05  ...       14.70       14.35      16.65\n",
            "15    지배주주순이익률       18.00        9.33  ...       10.47       10.85      12.07\n",
            "16         ROA       13.83        6.28  ...        7.01        7.41       8.00\n",
            "17         ROE       19.63        8.69  ...        9.63       10.64      11.22\n",
            "18      EPS(원)     6024.00     3166.00  ...      949.00     1044.00    1098.00\n",
            "19      BPS(원)    35342.00    37528.00  ...    39406.00    39126.00        NaN\n",
            "20      DPS(원)     1416.00     1416.00  ...     1932.00      361.00        NaN\n",
            "21         PER        6.42       17.63  ...         NaN         NaN        NaN\n",
            "22         PBR        1.10        1.49  ...        2.06        2.08        NaN\n",
            "23       발행주식수  5969783.00  5969783.00  ...  5969783.00  5969783.00        NaN\n",
            "24       배당수익률        3.66        2.54  ...        2.39        0.44        NaN\n",
            "\n",
            "[25 rows x 9 columns]\n",
            "tables[11]\n",
            "      IFRS(연결)      Annual              ...                                    \n",
            "      IFRS(연결)     2016/12     2017/12  ...  2021/12(E)  2022/12(E)  2023/12(E)\n",
            "0          매출액  2018667.00  2395754.00  ...  2671076.00  2906821.00  3100866.00\n",
            "1         영업이익   292407.00   536450.00  ...   487776.00   618349.00   667052.00\n",
            "2   영업이익(발표기준)   292407.00   536450.00  ...         NaN         NaN         NaN\n",
            "3        당기순이익   227261.00   421867.00  ...   365803.00   463273.00   506609.00\n",
            "4      지배주주순이익   224157.00   413446.00  ...   362935.00   459328.00   502118.00\n",
            "5     비지배주주순이익     3104.00     8422.00  ...         NaN         NaN         NaN\n",
            "6         자산총계  2621743.00  3017521.00  ...  4024716.00  4408378.00  4803634.00\n",
            "7         부채총계   692113.00   872607.00  ...  1079994.00  1131562.00  1153771.00\n",
            "8         자본총계  1929630.00  2144914.00  ...  2935460.00  3249589.00  3649862.00\n",
            "9       지배주주지분  1864243.00  2072134.00  ...  2855097.00  3172018.00  3512660.00\n",
            "10     비지배주주지분    65387.00    72780.00  ...    80364.00    77571.00   137202.00\n",
            "11         자본금     8975.00     8975.00  ...     8979.00     8979.00     8978.00\n",
            "12        부채비율       35.87       40.68  ...       36.79       34.82       31.61\n",
            "13         유보율    21757.56    23681.42  ...         NaN         NaN         NaN\n",
            "14       영업이익률       14.49       22.39  ...       18.26       21.27       21.51\n",
            "15    지배주주순이익률       11.10       17.26  ...       13.59       15.80       16.19\n",
            "16         ROA        9.01       14.96  ...        9.37       10.99       11.00\n",
            "17         ROE       12.48       21.01  ...       13.12       15.24       15.02\n",
            "18      EPS(원)     2735.00     5421.00  ...     5343.00     6762.00     7392.00\n",
            "19      BPS(원)    24340.00    28971.00  ...    42032.00    46698.00    51713.00\n",
            "20      DPS(원)      570.00      850.00  ...     1705.00     1834.00     1836.00\n",
            "21         PER       13.18        9.40  ...       14.99       11.85       10.84\n",
            "22         PBR        1.48        1.76  ...        1.91        1.72        1.55\n",
            "23       발행주식수  7033967.00  6454925.00  ...         NaN         NaN         NaN\n",
            "24       배당수익률        1.58        1.67  ...         NaN         NaN         NaN\n",
            "\n",
            "[25 rows x 9 columns]\n",
            "tables[12]\n",
            "      IFRS(연결) Net Quarter              ...                                 \n",
            "      IFRS(연결)     2020/03     2020/06  ... 2021/06(E) 2021/09(E) 2021/12(E)\n",
            "0          매출액   553252.00   529661.00  ...  617560.00  702982.00  706816.00\n",
            "1         영업이익    64473.00    81463.00  ...  102832.00  142353.00  149958.00\n",
            "2   영업이익(발표기준)    64473.00    81463.00  ...        NaN        NaN        NaN\n",
            "3        당기순이익    48849.00    55551.00  ...   78604.00  109815.00  116759.00\n",
            "4      지배주주순이익    48896.00    54890.00  ...   74551.00  106705.00  112917.00\n",
            "5     비지배주주순이익      -47.00      661.00  ...        NaN        NaN        NaN\n",
            "6         자산총계  3574575.00  3579595.00  ...        NaN        NaN        NaN\n",
            "7         부채총계   910698.00   881517.00  ...        NaN        NaN        NaN\n",
            "8         자본총계  2663877.00  2698078.00  ...        NaN        NaN        NaN\n",
            "9       지배주주지분  2584818.00  2617454.00  ...        NaN        NaN        NaN\n",
            "10     비지배주주지분    79060.00    80625.00  ...        NaN        NaN        NaN\n",
            "11         자본금     8975.00     8975.00  ...        NaN        NaN        NaN\n",
            "12        부채비율       34.19       32.67  ...        NaN        NaN        NaN\n",
            "13         유보율    28699.75    29063.37  ...        NaN        NaN        NaN\n",
            "14       영업이익률       11.65       15.38  ...      16.65      20.25      21.22\n",
            "15    지배주주순이익률        8.84       10.36  ...      12.07      15.18      15.98\n",
            "16         ROA        5.50        6.21  ...       8.00        NaN        NaN\n",
            "17         ROE        7.62        8.44  ...      11.22        NaN        NaN\n",
            "18      EPS(원)      720.00      808.00  ...    1098.00    1571.00    1662.00\n",
            "19      BPS(원)    38053.00    38534.00  ...        NaN        NaN        NaN\n",
            "20      DPS(원)      354.00      354.00  ...        NaN        NaN        NaN\n",
            "21         PER         NaN         NaN  ...        NaN        NaN        NaN\n",
            "22         PBR        1.25        1.37  ...        NaN        NaN        NaN\n",
            "23       발행주식수  5969783.00  5969783.00  ...        NaN        NaN        NaN\n",
            "24       배당수익률        0.74        0.67  ...        NaN        NaN        NaN\n",
            "\n",
            "[25 rows x 9 columns]\n",
            "tables[13]\n",
            "      IFRS(별도)      Annual              ... Net Quarter                       \n",
            "      IFRS(별도)     2018/12     2019/12  ...     2020/12     2021/03 2021/06(E)\n",
            "0          매출액  1703819.00  1547729.00  ...   405179.00   450424.00        NaN\n",
            "1         영업이익   436995.00   141151.00  ...    58023.00    44455.00        NaN\n",
            "2   영업이익(발표기준)   436995.00   141151.00  ...    58023.00    44455.00        NaN\n",
            "3        당기순이익   328151.00   153533.00  ...    45168.00    45476.00        NaN\n",
            "4         자산총계  2190214.00  2161809.00  ...  2296644.00  2365306.00        NaN\n",
            "5         부채총계   460332.00   383107.00  ...   463477.00   617745.00        NaN\n",
            "6         자본총계  1729881.00  1778702.00  ...  1833167.00  1747561.00        NaN\n",
            "7          자본금     8975.00     8975.00  ...     8975.00     8975.00        NaN\n",
            "8         부채비율       26.61       21.54  ...       25.28       35.35        NaN\n",
            "9          유보율    19174.14    19718.10  ...    20324.94    19371.13        NaN\n",
            "10       영업이익률       25.65        9.12  ...       14.32        9.87        NaN\n",
            "11        순이익률       19.26        9.92  ...       11.15       10.10        NaN\n",
            "12         ROA       15.73        7.06  ...        7.89        7.80        NaN\n",
            "13         ROE       20.22        8.75  ...        9.90       10.16        NaN\n",
            "14      EPS(원)     4504.00     2260.00  ...      665.00      669.00        NaN\n",
            "15      BPS(원)    25467.00    26186.00  ...    26987.00    25727.00        NaN\n",
            "16      DPS(원)     1416.00     1416.00  ...     1932.00      361.00        NaN\n",
            "17         PER        8.59       24.69  ...         NaN         NaN        NaN\n",
            "18         PBR        1.52        2.13  ...        3.00        3.16        NaN\n",
            "19       발행주식수  5969783.00  5969783.00  ...  5969783.00  5969783.00        NaN\n",
            "20       배당수익률        3.66        2.54  ...        2.39        0.44        NaN\n",
            "\n",
            "[21 rows x 9 columns]\n",
            "tables[14]\n",
            "      IFRS(별도)      Annual              ...                                 \n",
            "      IFRS(별도)     2016/12     2017/12  ... 2021/12(E) 2022/12(E) 2023/12(E)\n",
            "0          매출액  1339472.00  1619150.00  ...        NaN        NaN        NaN\n",
            "1         영업이익   136474.00   348571.00  ...        NaN        NaN        NaN\n",
            "2   영업이익(발표기준)   136474.00   348571.00  ...        NaN        NaN        NaN\n",
            "3        당기순이익   115797.00   288008.00  ...        NaN        NaN        NaN\n",
            "4         자산총계  1748030.00  1982414.00  ...        NaN        NaN        NaN\n",
            "5         부채총계   372562.00   466716.00  ...        NaN        NaN        NaN\n",
            "6         자본총계  1375468.00  1515698.00  ...        NaN        NaN        NaN\n",
            "7          자본금     8975.00     8975.00  ...        NaN        NaN        NaN\n",
            "8         부채비율       27.09       30.79  ...        NaN        NaN        NaN\n",
            "9          유보율    16311.68    17481.67  ...        NaN        NaN        NaN\n",
            "10       영업이익률       10.19       21.53  ...        NaN        NaN        NaN\n",
            "11        순이익률        8.65       17.79  ...        NaN        NaN        NaN\n",
            "12         ROA        6.74       15.44  ...        NaN        NaN        NaN\n",
            "13         ROE        8.45       19.92  ...        NaN        NaN        NaN\n",
            "14      EPS(원)     1413.00     3776.00  ...        NaN        NaN        NaN\n",
            "15      BPS(원)    18276.00    21418.00  ...        NaN        NaN        NaN\n",
            "16      DPS(원)      570.00      850.00  ...        NaN        NaN        NaN\n",
            "17         PER       25.51       13.49  ...        NaN        NaN        NaN\n",
            "18         PBR        1.97        2.38  ...        NaN        NaN        NaN\n",
            "19       발행주식수  7033967.00  6454925.00  ...        NaN        NaN        NaN\n",
            "20       배당수익률        1.58        1.67  ...        NaN        NaN        NaN\n",
            "\n",
            "[21 rows x 9 columns]\n",
            "tables[15]\n",
            "      IFRS(별도) Net Quarter              ...                                 \n",
            "      IFRS(별도)     2020/03     2020/06  ... 2021/06(E) 2021/09(E) 2021/12(E)\n",
            "0          매출액   400879.00   379041.00  ...        NaN        NaN        NaN\n",
            "1         영업이익    30323.00    46480.00  ...        NaN        NaN        NaN\n",
            "2   영업이익(발표기준)    30323.00    46480.00  ...        NaN        NaN        NaN\n",
            "3        당기순이익    23059.00    35222.00  ...        NaN        NaN        NaN\n",
            "4         자산총계  2205724.00  2181974.00  ...        NaN        NaN        NaN\n",
            "5         부채총계   431436.00   394470.00  ...        NaN        NaN        NaN\n",
            "6         자본총계  1774288.00  1787504.00  ...        NaN        NaN        NaN\n",
            "7          자본금     8975.00     8975.00  ...        NaN        NaN        NaN\n",
            "8         부채비율       24.32       22.07  ...        NaN        NaN        NaN\n",
            "9          유보율    19668.91    19816.17  ...        NaN        NaN        NaN\n",
            "10       영업이익률        7.56       12.26  ...        NaN        NaN        NaN\n",
            "11        순이익률        5.75        9.29  ...        NaN        NaN        NaN\n",
            "12         ROA        4.22        6.42  ...        NaN        NaN        NaN\n",
            "13         ROE        5.19        7.91  ...        NaN        NaN        NaN\n",
            "14      EPS(원)      339.00      519.00  ...        NaN        NaN        NaN\n",
            "15      BPS(원)    26121.00    26315.00  ...        NaN        NaN        NaN\n",
            "16      DPS(원)      354.00      354.00  ...        NaN        NaN        NaN\n",
            "17         PER         NaN         NaN  ...        NaN        NaN        NaN\n",
            "18         PBR        1.83        2.01  ...        NaN        NaN        NaN\n",
            "19       발행주식수  5969783.00  5969783.00  ...        NaN        NaN        NaN\n",
            "20       배당수익률        0.74        0.67  ...        NaN        NaN        NaN\n",
            "\n",
            "[21 rows x 9 columns]\n",
            "tables[16]\n",
            "   헤더 헤더.1\n",
            "0  내용   내용\n",
            "1  내용   내용\n",
            "2  내용   내용\n",
            "3  내용   내용\n"
          ],
          "name": "stdout"
        }
      ]
    },
    {
      "cell_type": "code",
      "metadata": {
        "colab": {
          "base_uri": "https://localhost:8080/"
        },
        "id": "1-wFAH6MhEg5",
        "outputId": "a7731837-00bb-46b5-b638-42b5a719ee0d"
      },
      "source": [
        "tables[3]"
      ],
      "execution_count": null,
      "outputs": [
        {
          "output_type": "execute_result",
          "data": {
            "text/html": [
              "<div>\n",
              "<style scoped>\n",
              "    .dataframe tbody tr th:only-of-type {\n",
              "        vertical-align: middle;\n",
              "    }\n",
              "\n",
              "    .dataframe tbody tr th {\n",
              "        vertical-align: top;\n",
              "    }\n",
              "\n",
              "    .dataframe thead th {\n",
              "        text-align: right;\n",
              "    }\n",
              "</style>\n",
              "<table border=\"1\" class=\"dataframe\">\n",
              "  <thead>\n",
              "    <tr style=\"text-align: right;\">\n",
              "      <th></th>\n",
              "      <th>항목</th>\n",
              "      <th>보통주</th>\n",
              "      <th>지분율</th>\n",
              "      <th>최종변동일</th>\n",
              "    </tr>\n",
              "  </thead>\n",
              "  <tbody>\n",
              "    <tr>\n",
              "      <th>0</th>\n",
              "      <td>삼성생명보험(외 16인)</td>\n",
              "      <td>1263093732</td>\n",
              "      <td>21.16</td>\n",
              "      <td>2021/05/03</td>\n",
              "    </tr>\n",
              "    <tr>\n",
              "      <th>1</th>\n",
              "      <td>국민연금공단</td>\n",
              "      <td>578352347</td>\n",
              "      <td>9.69</td>\n",
              "      <td>2021/04/06</td>\n",
              "    </tr>\n",
              "    <tr>\n",
              "      <th>2</th>\n",
              "      <td>BlackRock Fund Advisors(외 15인)</td>\n",
              "      <td>300391061</td>\n",
              "      <td>5.03</td>\n",
              "      <td>2019/01/28</td>\n",
              "    </tr>\n",
              "    <tr>\n",
              "      <th>3</th>\n",
              "      <td>이병철</td>\n",
              "      <td>408650</td>\n",
              "      <td>0.01</td>\n",
              "      <td>2018/05/04</td>\n",
              "    </tr>\n",
              "    <tr>\n",
              "      <th>4</th>\n",
              "      <td>서병삼</td>\n",
              "      <td>70300</td>\n",
              "      <td>0.00</td>\n",
              "      <td>2018/05/04</td>\n",
              "    </tr>\n",
              "    <tr>\n",
              "      <th>5</th>\n",
              "      <td>윤주화</td>\n",
              "      <td>66000</td>\n",
              "      <td>0.00</td>\n",
              "      <td>2018/05/04</td>\n",
              "    </tr>\n",
              "  </tbody>\n",
              "</table>\n",
              "</div>"
            ],
            "text/plain": [
              "                               항목         보통주    지분율       최종변동일\n",
              "0                   삼성생명보험(외 16인)  1263093732  21.16  2021/05/03\n",
              "1                          국민연금공단   578352347   9.69  2021/04/06\n",
              "2  BlackRock Fund Advisors(외 15인)   300391061   5.03  2019/01/28\n",
              "3                             이병철      408650   0.01  2018/05/04\n",
              "4                             서병삼       70300   0.00  2018/05/04\n",
              "5                             윤주화       66000   0.00  2018/05/04"
            ]
          },
          "metadata": {
            "tags": []
          },
          "execution_count": 25
        }
      ]
    },
    {
      "cell_type": "markdown",
      "metadata": {
        "id": "VjdmZSXnhEg5"
      },
      "source": [
        "## 웹 스크래핑 : 뷰티풀샵"
      ]
    },
    {
      "cell_type": "code",
      "metadata": {
        "id": "Hpmk2DI6hEg5"
      },
      "source": [
        "from bs4 import BeautifulSoup\n",
        "import requests\n",
        "import re \n",
        "import pandas as pd"
      ],
      "execution_count": null,
      "outputs": []
    },
    {
      "cell_type": "code",
      "metadata": {
        "id": "YQ_mhL9HhEg5"
      },
      "source": [
        "url = \"https://en.wikipedia.org/wiki/List_of_American_exchange-traded_funds\""
      ],
      "execution_count": null,
      "outputs": []
    },
    {
      "cell_type": "markdown",
      "metadata": {
        "id": "9Au_e0Bcfgt1"
      },
      "source": [
        "# 1장. 판다스 입문"
      ]
    },
    {
      "cell_type": "code",
      "metadata": {
        "id": "wpoJa4sogeHt"
      },
      "source": [
        "# 데이터 프레임 만들기\n",
        "import pandas as pd"
      ],
      "execution_count": null,
      "outputs": []
    },
    {
      "cell_type": "code",
      "metadata": {
        "colab": {
          "base_uri": "https://localhost:8080/"
        },
        "id": "m5MXrLopg3RB",
        "outputId": "a5551314-5a04-43c9-e8a9-943bd5149250"
      },
      "source": [
        "# 리스트를 시리즈로 변환하여 변수 sr에 저장\n",
        "list_data = ['2019-01-02', 3.14, 'ABC', 100, True]\n",
        "sr = pd.Series(list_data)\n",
        "print(sr)\n",
        "print('\\n')"
      ],
      "execution_count": null,
      "outputs": [
        {
          "output_type": "stream",
          "text": [
            "0    2019-01-02\n",
            "1          3.14\n",
            "2           ABC\n",
            "3           100\n",
            "4          True\n",
            "dtype: object\n",
            "\n",
            "\n"
          ],
          "name": "stdout"
        }
      ]
    },
    {
      "cell_type": "code",
      "metadata": {
        "colab": {
          "base_uri": "https://localhost:8080/"
        },
        "id": "GPf6MgHxh_vx",
        "outputId": "7a209816-5b8a-4365-e68b-902d9fba9e38"
      },
      "source": [
        "# 인덱스 배열은 변수 idx에 저장. 데이터 값 배열은 변수 val에 저장\n",
        "idx = sr.index\n",
        "val = sr.values\n",
        "print(idx)\n",
        "print('\\n')\n",
        "print(val)"
      ],
      "execution_count": null,
      "outputs": [
        {
          "output_type": "stream",
          "text": [
            "RangeIndex(start=0, stop=5, step=1)\n",
            "\n",
            "\n",
            "['2019-01-02' 3.14 'ABC' 100 True]\n"
          ],
          "name": "stdout"
        }
      ]
    },
    {
      "cell_type": "code",
      "metadata": {
        "colab": {
          "base_uri": "https://localhost:8080/"
        },
        "id": "4ttTw7fxiYUg",
        "outputId": "163ff85b-ba2d-4637-bbe9-6d48e936da74"
      },
      "source": [
        "# 열이름을 key로 하고, 리스트를 value로 갖는 딕셔너리 정의(2차원 배열)\n",
        "dict_data = {'c0':[1,2,3], 'c1':[4,5,6], 'c2':[7,8,9], 'c3':[10,11,12], 'c4':[13,14,15]}\n",
        "\n",
        "# 판다스 DataFrame() 함수로 딕셔너리를 데이터프레임으로 변환. 변수 df에 저장. \n",
        "df = pd.DataFrame(dict_data)\n",
        "\n",
        "# df의 자료형 출력\n",
        "print(type(df)) \n",
        "print('\\n')\n",
        "# 변수 df에 저장되어 있는 데이터프레임 객체를 출력\n",
        "print(df)\n"
      ],
      "execution_count": null,
      "outputs": [
        {
          "output_type": "stream",
          "text": [
            "<class 'pandas.core.frame.DataFrame'>\n",
            "\n",
            "\n",
            "   c0  c1  c2  c3  c4\n",
            "0   1   4   7  10  13\n",
            "1   2   5   8  11  14\n",
            "2   3   6   9  12  15\n"
          ],
          "name": "stdout"
        }
      ]
    },
    {
      "cell_type": "code",
      "metadata": {
        "id": "BZPmeDLDimhR"
      },
      "source": [
        "df = pd.DataFrame([[15, '남', '덕영중'], [17, '여','수리중']],\n",
        "                  index=['준서','예은'],\n",
        "                  columns = ['나이','성별','학교'])"
      ],
      "execution_count": null,
      "outputs": []
    },
    {
      "cell_type": "code",
      "metadata": {
        "colab": {
          "base_uri": "https://localhost:8080/",
          "height": 110
        },
        "id": "Hmnux2nnjiq3",
        "outputId": "bf24b09d-ef16-4793-9165-d8519e4d0771"
      },
      "source": [
        "df"
      ],
      "execution_count": null,
      "outputs": [
        {
          "output_type": "execute_result",
          "data": {
            "text/html": [
              "<div>\n",
              "<style scoped>\n",
              "    .dataframe tbody tr th:only-of-type {\n",
              "        vertical-align: middle;\n",
              "    }\n",
              "\n",
              "    .dataframe tbody tr th {\n",
              "        vertical-align: top;\n",
              "    }\n",
              "\n",
              "    .dataframe thead th {\n",
              "        text-align: right;\n",
              "    }\n",
              "</style>\n",
              "<table border=\"1\" class=\"dataframe\">\n",
              "  <thead>\n",
              "    <tr style=\"text-align: right;\">\n",
              "      <th></th>\n",
              "      <th>나이</th>\n",
              "      <th>성별</th>\n",
              "      <th>학교</th>\n",
              "    </tr>\n",
              "  </thead>\n",
              "  <tbody>\n",
              "    <tr>\n",
              "      <th>준서</th>\n",
              "      <td>15</td>\n",
              "      <td>남</td>\n",
              "      <td>덕영중</td>\n",
              "    </tr>\n",
              "    <tr>\n",
              "      <th>예은</th>\n",
              "      <td>17</td>\n",
              "      <td>여</td>\n",
              "      <td>수리중</td>\n",
              "    </tr>\n",
              "  </tbody>\n",
              "</table>\n",
              "</div>"
            ],
            "text/plain": [
              "    나이 성별   학교\n",
              "준서  15  남  덕영중\n",
              "예은  17  여  수리중"
            ]
          },
          "metadata": {
            "tags": []
          },
          "execution_count": 33
        }
      ]
    },
    {
      "cell_type": "code",
      "metadata": {
        "colab": {
          "base_uri": "https://localhost:8080/",
          "height": 53
        },
        "id": "aYlP2wtVjp4j",
        "outputId": "91007bdb-624a-4464-ec05-1841b5bf3c9a"
      },
      "source": [
        "print(df.index)\n",
        "'\\n'"
      ],
      "execution_count": null,
      "outputs": [
        {
          "output_type": "stream",
          "text": [
            "Index(['준서', '예은'], dtype='object')\n"
          ],
          "name": "stdout"
        },
        {
          "output_type": "execute_result",
          "data": {
            "application/vnd.google.colaboratory.intrinsic+json": {
              "type": "string"
            },
            "text/plain": [
              "'\\n'"
            ]
          },
          "metadata": {
            "tags": []
          },
          "execution_count": 34
        }
      ]
    },
    {
      "cell_type": "markdown",
      "metadata": {
        "id": "m4nZpp5az8NV"
      },
      "source": [
        "## 행열 이름 변경"
      ]
    },
    {
      "cell_type": "code",
      "metadata": {
        "colab": {
          "base_uri": "https://localhost:8080/"
        },
        "id": "m3Ld4qGVz7eJ",
        "outputId": "9f21606a-76a5-4db8-e1fa-6245fe96b113"
      },
      "source": [
        "df.rename(columns={'나이':'연령','성별':'남녀','학교':'소속'},inplace=True) # 원본 객체 변경.\n",
        "df\n",
        "# 행 인덱스 변경은 index로."
      ],
      "execution_count": null,
      "outputs": [
        {
          "output_type": "execute_result",
          "data": {
            "text/html": [
              "<div>\n",
              "<style scoped>\n",
              "    .dataframe tbody tr th:only-of-type {\n",
              "        vertical-align: middle;\n",
              "    }\n",
              "\n",
              "    .dataframe tbody tr th {\n",
              "        vertical-align: top;\n",
              "    }\n",
              "\n",
              "    .dataframe thead th {\n",
              "        text-align: right;\n",
              "    }\n",
              "</style>\n",
              "<table border=\"1\" class=\"dataframe\">\n",
              "  <thead>\n",
              "    <tr style=\"text-align: right;\">\n",
              "      <th></th>\n",
              "      <th>연령</th>\n",
              "      <th>남녀</th>\n",
              "      <th>소속</th>\n",
              "    </tr>\n",
              "  </thead>\n",
              "  <tbody>\n",
              "    <tr>\n",
              "      <th>준서</th>\n",
              "      <td>15</td>\n",
              "      <td>남</td>\n",
              "      <td>덕영중</td>\n",
              "    </tr>\n",
              "    <tr>\n",
              "      <th>예은</th>\n",
              "      <td>17</td>\n",
              "      <td>여</td>\n",
              "      <td>수리중</td>\n",
              "    </tr>\n",
              "  </tbody>\n",
              "</table>\n",
              "</div>"
            ],
            "text/plain": [
              "    연령 남녀   소속\n",
              "준서  15  남  덕영중\n",
              "예은  17  여  수리중"
            ]
          },
          "metadata": {
            "tags": []
          },
          "execution_count": 35
        }
      ]
    },
    {
      "cell_type": "markdown",
      "metadata": {
        "id": "J_15itNW1ITV"
      },
      "source": [
        "## 행열 삭제"
      ]
    },
    {
      "cell_type": "code",
      "metadata": {
        "colab": {
          "base_uri": "https://localhost:8080/",
          "height": 186
        },
        "id": "L92AW1HB1NC_",
        "outputId": "82adca7b-0c0c-4b44-9454-7e598c135fed"
      },
      "source": [
        "df2 = df[:] # 데이터프레임 복제\n",
        "df2.drop('예은', inplace=True)\n",
        "df2"
      ],
      "execution_count": null,
      "outputs": [
        {
          "output_type": "stream",
          "text": [
            "/usr/local/lib/python3.7/dist-packages/pandas/core/frame.py:4174: SettingWithCopyWarning: \n",
            "A value is trying to be set on a copy of a slice from a DataFrame\n",
            "\n",
            "See the caveats in the documentation: https://pandas.pydata.org/pandas-docs/stable/user_guide/indexing.html#returning-a-view-versus-a-copy\n",
            "  errors=errors,\n"
          ],
          "name": "stderr"
        },
        {
          "output_type": "execute_result",
          "data": {
            "text/html": [
              "<div>\n",
              "<style scoped>\n",
              "    .dataframe tbody tr th:only-of-type {\n",
              "        vertical-align: middle;\n",
              "    }\n",
              "\n",
              "    .dataframe tbody tr th {\n",
              "        vertical-align: top;\n",
              "    }\n",
              "\n",
              "    .dataframe thead th {\n",
              "        text-align: right;\n",
              "    }\n",
              "</style>\n",
              "<table border=\"1\" class=\"dataframe\">\n",
              "  <thead>\n",
              "    <tr style=\"text-align: right;\">\n",
              "      <th></th>\n",
              "      <th>연령</th>\n",
              "      <th>남녀</th>\n",
              "      <th>소속</th>\n",
              "    </tr>\n",
              "  </thead>\n",
              "  <tbody>\n",
              "    <tr>\n",
              "      <th>준서</th>\n",
              "      <td>15</td>\n",
              "      <td>남</td>\n",
              "      <td>덕영중</td>\n",
              "    </tr>\n",
              "  </tbody>\n",
              "</table>\n",
              "</div>"
            ],
            "text/plain": [
              "    연령 남녀   소속\n",
              "준서  15  남  덕영중"
            ]
          },
          "metadata": {
            "tags": []
          },
          "execution_count": 36
        }
      ]
    },
    {
      "cell_type": "code",
      "metadata": {
        "colab": {
          "base_uri": "https://localhost:8080/",
          "height": 217
        },
        "id": "daOsaea21-oA",
        "outputId": "f5052f09-8bbb-44c2-9b1f-05e3138ffdb0"
      },
      "source": [
        "# 열을 삭제할 때는 axis=1을 설정한다. (1은 세로다)\n",
        "df3 = df[:]\n",
        "df3.drop('소속', axis=1, inplace=True)\n",
        "df3"
      ],
      "execution_count": null,
      "outputs": [
        {
          "output_type": "stream",
          "text": [
            "/usr/local/lib/python3.7/dist-packages/pandas/core/frame.py:4174: SettingWithCopyWarning: \n",
            "A value is trying to be set on a copy of a slice from a DataFrame\n",
            "\n",
            "See the caveats in the documentation: https://pandas.pydata.org/pandas-docs/stable/user_guide/indexing.html#returning-a-view-versus-a-copy\n",
            "  errors=errors,\n"
          ],
          "name": "stderr"
        },
        {
          "output_type": "execute_result",
          "data": {
            "text/html": [
              "<div>\n",
              "<style scoped>\n",
              "    .dataframe tbody tr th:only-of-type {\n",
              "        vertical-align: middle;\n",
              "    }\n",
              "\n",
              "    .dataframe tbody tr th {\n",
              "        vertical-align: top;\n",
              "    }\n",
              "\n",
              "    .dataframe thead th {\n",
              "        text-align: right;\n",
              "    }\n",
              "</style>\n",
              "<table border=\"1\" class=\"dataframe\">\n",
              "  <thead>\n",
              "    <tr style=\"text-align: right;\">\n",
              "      <th></th>\n",
              "      <th>연령</th>\n",
              "      <th>남녀</th>\n",
              "    </tr>\n",
              "  </thead>\n",
              "  <tbody>\n",
              "    <tr>\n",
              "      <th>준서</th>\n",
              "      <td>15</td>\n",
              "      <td>남</td>\n",
              "    </tr>\n",
              "    <tr>\n",
              "      <th>예은</th>\n",
              "      <td>17</td>\n",
              "      <td>여</td>\n",
              "    </tr>\n",
              "  </tbody>\n",
              "</table>\n",
              "</div>"
            ],
            "text/plain": [
              "    연령 남녀\n",
              "준서  15  남\n",
              "예은  17  여"
            ]
          },
          "metadata": {
            "tags": []
          },
          "execution_count": 37
        }
      ]
    },
    {
      "cell_type": "code",
      "metadata": {
        "colab": {
          "base_uri": "https://localhost:8080/",
          "height": 132
        },
        "id": "T7DLtpIk3A-k",
        "outputId": "2757159c-b22e-48ed-c8d2-4aac29d2b9a5"
      },
      "source": [
        "df = c('종성':)"
      ],
      "execution_count": null,
      "outputs": [
        {
          "output_type": "error",
          "ename": "SyntaxError",
          "evalue": "ignored",
          "traceback": [
            "\u001b[0;36m  File \u001b[0;32m\"<ipython-input-38-d510503dfc6f>\"\u001b[0;36m, line \u001b[0;32m1\u001b[0m\n\u001b[0;31m    df = c('종성':)\u001b[0m\n\u001b[0m               ^\u001b[0m\n\u001b[0;31mSyntaxError\u001b[0m\u001b[0;31m:\u001b[0m invalid syntax\n"
          ]
        }
      ]
    },
    {
      "cell_type": "markdown",
      "metadata": {
        "id": "C1qZKHsBfsoX"
      },
      "source": [
        "# 2장. 데이터 입출력"
      ]
    },
    {
      "cell_type": "code",
      "metadata": {
        "id": "ZYmzWTZWgpyr"
      },
      "source": [
        ""
      ],
      "execution_count": null,
      "outputs": []
    },
    {
      "cell_type": "markdown",
      "metadata": {
        "id": "FekHiakmfy-a"
      },
      "source": [
        "# 3장. 데이터 살펴보기"
      ]
    },
    {
      "cell_type": "markdown",
      "metadata": {
        "id": "4QtME-YtgA-z"
      },
      "source": [
        "# 4장. 시각화 도구"
      ]
    },
    {
      "cell_type": "markdown",
      "metadata": {
        "id": "IfQ6tFKHgFun"
      },
      "source": [
        "# 5장. 데이터 사전 처리"
      ]
    },
    {
      "cell_type": "markdown",
      "metadata": {
        "id": "Er_f_fjdykt7"
      },
      "source": [
        "## 누락 데이터 처리"
      ]
    },
    {
      "cell_type": "code",
      "metadata": {
        "id": "tvIdPOUTyq99"
      },
      "source": [
        "# seaborn 라이브러리의 타이타닉 데이터셋 사용하기.\n",
        "import seaborn as sns"
      ],
      "execution_count": null,
      "outputs": []
    },
    {
      "cell_type": "code",
      "metadata": {
        "id": "CNoG5XTfyyFi"
      },
      "source": [
        "# 데이터셋 불러오기.\n",
        "df = sns.load_dataset('titanic')"
      ],
      "execution_count": null,
      "outputs": []
    },
    {
      "cell_type": "code",
      "metadata": {
        "id": "0whW60lwzKFg"
      },
      "source": [
        "# 데이터셋 요약정보 출력.\n",
        "df.info()"
      ],
      "execution_count": null,
      "outputs": []
    },
    {
      "cell_type": "code",
      "metadata": {
        "id": "4iR9uJbl0fuT"
      },
      "source": [
        "# isnull 함수를 활용하여 누락 데이터 개수 확인하기.\n",
        "df.isnull().sum(axis=0)"
      ],
      "execution_count": null,
      "outputs": []
    },
    {
      "cell_type": "code",
      "metadata": {
        "id": "LwvcYn0G1_xL"
      },
      "source": [
        "# 데이터셋 복제하기.\n",
        "df1 = df\n",
        "df2 = df\n",
        "df3 = df\n",
        "df4 = df"
      ],
      "execution_count": null,
      "outputs": []
    },
    {
      "cell_type": "code",
      "metadata": {
        "id": "AQdas2Mh2hZ-"
      },
      "source": [
        "# 1-1. 결측치가 1개라도 있으면 해당 열 삭제하기.\n",
        "df1 = df1.dropna(axis=1)\n",
        "# 결측치 개수 확인 => 열이 삭제됐음을 확인.\n",
        "df1.isnull().sum(axis=0)"
      ],
      "execution_count": null,
      "outputs": []
    },
    {
      "cell_type": "code",
      "metadata": {
        "id": "HV_imx4r7cxQ"
      },
      "source": [
        "# 1-2. 결측치가 500개 이상 갖는 열 삭제하기.\n",
        "df2 = df2.dropna(axis=1, thresh=500)\n",
        "# 결측치 개수 확인 => deck 변수가 삭제됐음을 확인.\n",
        "df2.isnull().sum(axis=0)"
      ],
      "execution_count": null,
      "outputs": []
    },
    {
      "cell_type": "code",
      "metadata": {
        "id": "IAXQZGsW8B_Y"
      },
      "source": [
        "# 1-3. age 열에 데이터가 없는 모든 열 삭제하기.\n",
        "df3 = df3.dropna(subset=['age'], axis=0)\n",
        "# 결측치 개수 확인 \n",
        "df3.isnull().sum(axis=0)"
      ],
      "execution_count": null,
      "outputs": []
    },
    {
      "cell_type": "code",
      "metadata": {
        "id": "KPv4Gs7n9ZNh"
      },
      "source": [
        "# 2. 데이터 치환 : 평균값\n",
        "# 1) mean 계산. (중간값으로 치환하려면 median() 사용.)\n",
        "mean_age = df4['age'].mean()\n",
        "# 2) fillna로 평균값 치환.\n",
        "df4['age'].fillna(mean_age, inplace=True)\n",
        "# age 변수가 891로 변한 것 확인.\n",
        "df4.info()"
      ],
      "execution_count": null,
      "outputs": []
    },
    {
      "cell_type": "code",
      "metadata": {
        "id": "XWClQ7H792dt"
      },
      "source": [
        "# 3. 데이터 치환 : 최빈값\n",
        "# 1) 'embark_town' 빈도수 확인.\n",
        "df['embark_town'].value_counts()"
      ],
      "execution_count": null,
      "outputs": []
    },
    {
      "cell_type": "code",
      "metadata": {
        "id": "S333o5SFDEYa"
      },
      "source": [
        "# 2) 직접 최빈값으로 치환. ()\n",
        "df['embark_town'].fillna('Southampton', inplace=True)\n",
        "df['embark_town'].value_counts()"
      ],
      "execution_count": null,
      "outputs": []
    },
    {
      "cell_type": "markdown",
      "metadata": {
        "id": "XIeYgwDagJmZ"
      },
      "source": [
        "# 6장. 데이터프레임의 다양한 응용"
      ]
    },
    {
      "cell_type": "markdown",
      "metadata": {
        "id": "Gsv9LavGgOy9"
      },
      "source": [
        "# 7장. 머신러닝 데이터 분석"
      ]
    },
    {
      "cell_type": "markdown",
      "metadata": {
        "id": "cmhtBtZDhOod"
      },
      "source": [
        "## 회귀분석"
      ]
    },
    {
      "cell_type": "markdown",
      "metadata": {
        "id": "ZlxI1fV_lota"
      },
      "source": [
        "### 1.데이터 준비"
      ]
    },
    {
      "cell_type": "code",
      "metadata": {
        "id": "yYLHLGNfhRA3"
      },
      "source": [
        "import pandas as pd\n",
        "import numpy as np\n",
        "import matplotlib.pyplot as plt\n",
        "import seaborn as sns"
      ],
      "execution_count": null,
      "outputs": []
    },
    {
      "cell_type": "code",
      "metadata": {
        "id": "Y0p0Vl1Ci5nD"
      },
      "source": [
        "df = pd.read_csv('/content/drive/MyDrive/datasets/auto-mpg.csv')"
      ],
      "execution_count": null,
      "outputs": []
    },
    {
      "cell_type": "code",
      "metadata": {
        "id": "oJ3eNnUGjCPR"
      },
      "source": [
        "df"
      ],
      "execution_count": null,
      "outputs": []
    },
    {
      "cell_type": "code",
      "metadata": {
        "id": "7up0Dh6AlZjV"
      },
      "source": [
        "df.head()"
      ],
      "execution_count": null,
      "outputs": []
    },
    {
      "cell_type": "markdown",
      "metadata": {
        "id": "cdHhvIvplwia"
      },
      "source": [
        "### 2.데이터 탐색"
      ]
    },
    {
      "cell_type": "code",
      "metadata": {
        "id": "KLpJ1fCTldgo"
      },
      "source": [
        "df.info()"
      ],
      "execution_count": null,
      "outputs": []
    },
    {
      "cell_type": "code",
      "metadata": {
        "id": "2n2uKlZcl3uV"
      },
      "source": [
        "df.describe()"
      ],
      "execution_count": null,
      "outputs": []
    },
    {
      "cell_type": "code",
      "metadata": {
        "id": "14zugzXSl9MN"
      },
      "source": [
        "df['horsepower'].unique()"
      ],
      "execution_count": null,
      "outputs": []
    },
    {
      "cell_type": "code",
      "metadata": {
        "id": "p-H0OGPCmmiJ"
      },
      "source": [
        "df['horsepower'].replace('?', np.nan, inplace=True)"
      ],
      "execution_count": null,
      "outputs": []
    },
    {
      "cell_type": "code",
      "metadata": {
        "id": "2ULORz_7m6hh"
      },
      "source": [
        "df"
      ],
      "execution_count": null,
      "outputs": []
    },
    {
      "cell_type": "code",
      "metadata": {
        "id": "WjF5rPGem8zE"
      },
      "source": [
        "df.isnull().sum(axis=0) # 누락 데이터 개수 확인"
      ],
      "execution_count": null,
      "outputs": []
    },
    {
      "cell_type": "code",
      "metadata": {
        "id": "7GWdFKn3nXdq"
      },
      "source": [
        "df.dropna(subset=['horsepower'], axis=0, inplace=True)"
      ],
      "execution_count": null,
      "outputs": []
    },
    {
      "cell_type": "code",
      "metadata": {
        "id": "4u-cbM2Zoby5"
      },
      "source": [
        "df.isnull().sum(axis=0) # 누락 데이터 개수 확인"
      ],
      "execution_count": null,
      "outputs": []
    },
    {
      "cell_type": "code",
      "metadata": {
        "id": "2PqZIBLRof1Y"
      },
      "source": [
        "df['horsepower'] = df['horsepower'].astype('float')"
      ],
      "execution_count": null,
      "outputs": []
    },
    {
      "cell_type": "code",
      "metadata": {
        "id": "8atvSMPJoiz8"
      },
      "source": [
        "df.describe()"
      ],
      "execution_count": null,
      "outputs": []
    },
    {
      "cell_type": "markdown",
      "metadata": {
        "id": "zA4EUIIFvuW6"
      },
      "source": [
        "### 3.속성 선택"
      ]
    },
    {
      "cell_type": "code",
      "metadata": {
        "id": "nLF6b0C_o4rQ"
      },
      "source": [
        "ndf=df[['mpg','cylinders','horsepower','weight']] # 변수 선택\n",
        "ndf"
      ],
      "execution_count": null,
      "outputs": []
    },
    {
      "cell_type": "code",
      "metadata": {
        "id": "TSMMj8SLpr5b"
      },
      "source": [
        "# 종속변수와 독립변수의 선형관계 산점도로 확인.\n",
        "ndf.plot(kind='scatter', x='weight', y='mpg', c='coral', s =10, figsize=(10,5))"
      ],
      "execution_count": null,
      "outputs": []
    },
    {
      "cell_type": "code",
      "metadata": {
        "id": "sxNQKqhOqcTS"
      },
      "source": [
        "fig = plt.figure(figsize=(10,5))\n",
        "ax1=fig.add_subplot(1,2,1)\n",
        "ax2=fig.add_subplot(1,2,2)\n",
        "sns.regplot(x='weight', y='mpg', data=ndf, ax=ax1)\n",
        "sns.regplot(x='weight', y='mpg', data=ndf, ax=ax2, fit_reg=False)"
      ],
      "execution_count": null,
      "outputs": []
    },
    {
      "cell_type": "code",
      "metadata": {
        "id": "eDwO6Y0Przcq"
      },
      "source": [
        "grid_ndf = sns.pairplot(ndf)"
      ],
      "execution_count": null,
      "outputs": []
    },
    {
      "cell_type": "markdown",
      "metadata": {
        "id": "Q5Dnv-R3vyzS"
      },
      "source": [
        "### 4.데이터 분할"
      ]
    },
    {
      "cell_type": "code",
      "metadata": {
        "id": "0oQOj1FlsRJK"
      },
      "source": [
        "X = ndf[['weight']] # 데이터 프레임으로 불러오기?\n",
        "Y = ndf['mpg']\n",
        "\n",
        "# 7:3으로 데이터 구분.\n",
        "from sklearn.model_selection import train_test_split\n",
        "x_train, x_test, y_train, y_test = train_test_split(X,\n",
        "                                                    Y,\n",
        "                                                    test_size=0.3,\n",
        "                                                    random_state=10)"
      ],
      "execution_count": null,
      "outputs": []
    },
    {
      "cell_type": "code",
      "metadata": {
        "id": "o3XKpmzuw5tw"
      },
      "source": [
        "# 데이터 구분 개수 확인.\n",
        "print('train data 개수: ', len(x_train))\n",
        "print('test data 개수: ', len(x_test))"
      ],
      "execution_count": null,
      "outputs": []
    },
    {
      "cell_type": "markdown",
      "metadata": {
        "id": "-WbiSsM5xxjY"
      },
      "source": [
        "### 5.모형학습 및 검증"
      ]
    },
    {
      "cell_type": "code",
      "metadata": {
        "id": "o5uEynmBxSY6"
      },
      "source": [
        "# sklearn 라이브러리에서 선형회귀분석 모듈 가져오기.\n",
        "\n",
        "from sklearn.linear_model import LinearRegression\n",
        "\n",
        "# 단순선형회귀분석 모형 객체 생성\n",
        "lr = LinearRegression() \n",
        "\n",
        "# 모형 학습\n",
        "lr.fit(x_train, y_train)"
      ],
      "execution_count": null,
      "outputs": []
    },
    {
      "cell_type": "code",
      "metadata": {
        "id": "jXvB79vIycsT"
      },
      "source": [
        "# 학습된 모형에 테스트 데이터 적용하여 '결정계수' 계산\n",
        "r_square = lr.score(x_test, y_test)\n",
        "r_square"
      ],
      "execution_count": null,
      "outputs": []
    },
    {
      "cell_type": "code",
      "metadata": {
        "id": "n3Ch0VyBz0RZ"
      },
      "source": [
        "# 회귀계수 출력하기\n",
        "print('기울기 a: ', lr.coef_) # coef_의 언더바 주의.\n",
        "print('상수 : ', lr.intercept_) \n"
      ],
      "execution_count": null,
      "outputs": []
    },
    {
      "cell_type": "code",
      "metadata": {
        "id": "obwsyXfb0mXJ"
      },
      "source": [
        "# 예측과 실제값 비교.\n",
        "y_hat = lr.predict(X)  # X 데이터 전체에 대해 예측.\n",
        "\n",
        "plt.figure(figsize=(10,5))\n",
        "ax1 = sns.distplot(Y, hist=False, label=\"y\")\n",
        "ax2 = sns.distplot(y_hat, hist=False, label=\"y_hat\", ax=ax1)\n"
      ],
      "execution_count": null,
      "outputs": []
    },
    {
      "cell_type": "markdown",
      "metadata": {
        "id": "k2zxb4ko10PV"
      },
      "source": [
        "## 다항회귀분석"
      ]
    },
    {
      "cell_type": "code",
      "metadata": {
        "id": "oCzssAJTpLZ8"
      },
      "source": [
        "import pandas as pd\n",
        "import numpy as np\n",
        "import matplotlib.pyplot as plt\n",
        "import seaborn as sns"
      ],
      "execution_count": null,
      "outputs": []
    },
    {
      "cell_type": "code",
      "metadata": {
        "id": "C9jdO4ycph81"
      },
      "source": [
        "df = pd.read_csv('/content/drive/MyDrive/datasets/auto-mpg.csv')"
      ],
      "execution_count": null,
      "outputs": []
    },
    {
      "cell_type": "code",
      "metadata": {
        "id": "Jw2Mem3bqWOr"
      },
      "source": [
        "# 열 이름 지정\n",
        "df.columns = ['mpg', 'cy', 'displace', 'horse', 'weight', 'acce', 'model', 'origin', 'name']"
      ],
      "execution_count": null,
      "outputs": []
    },
    {
      "cell_type": "code",
      "metadata": {
        "id": "xi_A5BXLrGKI"
      },
      "source": [
        "df['horse'].replace('?', np.nan, inplace=True)"
      ],
      "execution_count": null,
      "outputs": []
    },
    {
      "cell_type": "code",
      "metadata": {
        "id": "TVJRqGXEsCyZ"
      },
      "source": [
        "df.dropna(subset=['horse'], axis=0, inplace=True)"
      ],
      "execution_count": null,
      "outputs": []
    },
    {
      "cell_type": "code",
      "metadata": {
        "id": "HJKl0B1asTAD"
      },
      "source": [
        "df['horse'] = df['horse'].astype('float')"
      ],
      "execution_count": null,
      "outputs": []
    },
    {
      "cell_type": "code",
      "metadata": {
        "id": "Wa5f6iShsVeq"
      },
      "source": [
        "ndf = df[['mpg', 'cy', 'horse', 'weight']]"
      ],
      "execution_count": null,
      "outputs": []
    },
    {
      "cell_type": "code",
      "metadata": {
        "id": "qkG5VKyitm1S"
      },
      "source": [
        "x = ndf[['weight']] # 독립변수는 굳이 데이터프레임으로 만든다?\n",
        "y = ndf['mpg']"
      ],
      "execution_count": null,
      "outputs": []
    },
    {
      "cell_type": "code",
      "metadata": {
        "id": "wxRUlXMet5vt"
      },
      "source": [
        "from sklearn.model_selection import train_test_split\n",
        "x_train, x_test, y_train, y_test = train_test_split(x, y, test_size = 0.3, random_state=10)"
      ],
      "execution_count": null,
      "outputs": []
    },
    {
      "cell_type": "code",
      "metadata": {
        "colab": {
          "base_uri": "https://localhost:8080/"
        },
        "id": "UHrY1Bzit6rC",
        "outputId": "1a98a529-18ef-4003-efd3-e91a7184fa7a"
      },
      "source": [
        "print('훈련 데이터: ', x_train.shape)\n",
        "print('검증 데이터: ', x_test.shape)\n"
      ],
      "execution_count": null,
      "outputs": [
        {
          "output_type": "stream",
          "text": [
            "훈련 데이터:  (274, 1)\n",
            "검증 데이터:  (118, 1)\n"
          ],
          "name": "stdout"
        }
      ]
    },
    {
      "cell_type": "markdown",
      "metadata": {
        "id": "pbZEHd5Gus0p"
      },
      "source": [
        "### 모형 학습 및 검증"
      ]
    },
    {
      "cell_type": "code",
      "metadata": {
        "id": "UenpeR7-_WN9"
      },
      "source": [
        "from sklearn.linear_model import LinearRegression # 선형회귀분석\n",
        "from sklearn.preprocessing import PolynomialFeatures # 다항식 변환?"
      ],
      "execution_count": null,
      "outputs": []
    },
    {
      "cell_type": "code",
      "metadata": {
        "id": "9QVo3o8O_odV"
      },
      "source": [
        "poly = PolynomialFeatures(degree = 2) # 2차 선형방정식 모형?\n",
        "x_train_poly = poly.fit_transform(x_train) # x 트레인 데이터를 2차항으로 변형?"
      ],
      "execution_count": null,
      "outputs": []
    },
    {
      "cell_type": "code",
      "metadata": {
        "colab": {
          "base_uri": "https://localhost:8080/"
        },
        "id": "45LCM-nLAKbV",
        "outputId": "b46de11b-12dc-438d-d86c-89482275768b"
      },
      "source": [
        "print('원 데이터: ', x_train.shape)\n",
        "print('2차항 변환 데이터: ', x_train_poly.shape)"
      ],
      "execution_count": null,
      "outputs": [
        {
          "output_type": "stream",
          "text": [
            "원 데이터:  (274, 1)\n",
            "2차항 변환 데이터:  (274, 3)\n"
          ],
          "name": "stdout"
        }
      ]
    },
    {
      "cell_type": "code",
      "metadata": {
        "colab": {
          "base_uri": "https://localhost:8080/"
        },
        "id": "pFbumA1WAdBE",
        "outputId": "3875b25a-1016-4f1e-c87d-3d5fad3f519c"
      },
      "source": [
        "pr = LinearRegression()\n",
        "pr.fit(x_train_poly, y_train) # 트레인 데이터로 모형 학습."
      ],
      "execution_count": null,
      "outputs": [
        {
          "output_type": "execute_result",
          "data": {
            "text/plain": [
              "LinearRegression(copy_X=True, fit_intercept=True, n_jobs=None, normalize=False)"
            ]
          },
          "metadata": {
            "tags": []
          },
          "execution_count": 76
        }
      ]
    },
    {
      "cell_type": "code",
      "metadata": {
        "colab": {
          "base_uri": "https://localhost:8080/"
        },
        "id": "x_J9EXcdBOWb",
        "outputId": "b7eb6176-9ff7-4705-c594-071d597ec4c7"
      },
      "source": [
        "x_test_poly = poly.fit_transform(x_test)\n",
        "r_square = pr.score(x_test_poly, y_test)\n",
        "print(r_square)"
      ],
      "execution_count": null,
      "outputs": [
        {
          "output_type": "stream",
          "text": [
            "0.7087009262975479\n"
          ],
          "name": "stdout"
        }
      ]
    },
    {
      "cell_type": "markdown",
      "metadata": {
        "id": "yZYT1dMoDVE0"
      },
      "source": [
        "### 다중회귀분석"
      ]
    },
    {
      "cell_type": "code",
      "metadata": {
        "id": "2ApyRDo4Dsjn"
      },
      "source": [
        "import pandas as pd\n",
        "import numpy as np\n",
        "import matplotlib.pyplot as plt\n",
        "import seaborn as sns"
      ],
      "execution_count": null,
      "outputs": []
    },
    {
      "cell_type": "code",
      "metadata": {
        "id": "FMMf1ZOUEbCz"
      },
      "source": [
        "df = pd.read_csv('/content/drive/MyDrive/datasets/auto-mpg.csv', header=None)"
      ],
      "execution_count": null,
      "outputs": []
    },
    {
      "cell_type": "code",
      "metadata": {
        "id": "s_6dw0Q-TJLf"
      },
      "source": [
        "df.columns = ['mpg','cylinders','displacement','horsepower','weight','acceleration','model year','origin','name']"
      ],
      "execution_count": null,
      "outputs": []
    },
    {
      "cell_type": "code",
      "metadata": {
        "id": "ANIvBccFTj-g"
      },
      "source": [
        "df['horsepower'].replace('?', np.nan, inplace=True)"
      ],
      "execution_count": null,
      "outputs": []
    },
    {
      "cell_type": "code",
      "metadata": {
        "colab": {
          "base_uri": "https://localhost:8080/",
          "height": 347
        },
        "id": "SNMq5OBhTrJH",
        "outputId": "1811e719-8e53-4c2c-b61a-87f403e58e35"
      },
      "source": [
        "df.dropna(subset=['horsepower'], axis=0, inplace=True)\n",
        "df['horsepower'] = df['horsepower'].astype('float')"
      ],
      "execution_count": null,
      "outputs": [
        {
          "output_type": "error",
          "ename": "ValueError",
          "evalue": "ignored",
          "traceback": [
            "\u001b[0;31m---------------------------------------------------------------------------\u001b[0m",
            "\u001b[0;31mValueError\u001b[0m                                Traceback (most recent call last)",
            "\u001b[0;32m<ipython-input-101-707d6a9d417c>\u001b[0m in \u001b[0;36m<module>\u001b[0;34m()\u001b[0m\n\u001b[1;32m      1\u001b[0m \u001b[0mdf\u001b[0m\u001b[0;34m.\u001b[0m\u001b[0mdropna\u001b[0m\u001b[0;34m(\u001b[0m\u001b[0msubset\u001b[0m\u001b[0;34m=\u001b[0m\u001b[0;34m[\u001b[0m\u001b[0;34m'horsepower'\u001b[0m\u001b[0;34m]\u001b[0m\u001b[0;34m,\u001b[0m \u001b[0maxis\u001b[0m\u001b[0;34m=\u001b[0m\u001b[0;36m0\u001b[0m\u001b[0;34m,\u001b[0m \u001b[0minplace\u001b[0m\u001b[0;34m=\u001b[0m\u001b[0;32mTrue\u001b[0m\u001b[0;34m)\u001b[0m\u001b[0;34m\u001b[0m\u001b[0;34m\u001b[0m\u001b[0m\n\u001b[0;32m----> 2\u001b[0;31m \u001b[0mdf\u001b[0m\u001b[0;34m[\u001b[0m\u001b[0;34m'horsepower'\u001b[0m\u001b[0;34m]\u001b[0m \u001b[0;34m=\u001b[0m \u001b[0mdf\u001b[0m\u001b[0;34m[\u001b[0m\u001b[0;34m'horsepower'\u001b[0m\u001b[0;34m]\u001b[0m\u001b[0;34m.\u001b[0m\u001b[0mastype\u001b[0m\u001b[0;34m(\u001b[0m\u001b[0;34m'float'\u001b[0m\u001b[0;34m)\u001b[0m\u001b[0;34m\u001b[0m\u001b[0;34m\u001b[0m\u001b[0m\n\u001b[0m",
            "\u001b[0;32m/usr/local/lib/python3.7/dist-packages/pandas/core/generic.py\u001b[0m in \u001b[0;36mastype\u001b[0;34m(self, dtype, copy, errors)\u001b[0m\n\u001b[1;32m   5546\u001b[0m         \u001b[0;32melse\u001b[0m\u001b[0;34m:\u001b[0m\u001b[0;34m\u001b[0m\u001b[0;34m\u001b[0m\u001b[0m\n\u001b[1;32m   5547\u001b[0m             \u001b[0;31m# else, only a single dtype is given\u001b[0m\u001b[0;34m\u001b[0m\u001b[0;34m\u001b[0m\u001b[0;34m\u001b[0m\u001b[0m\n\u001b[0;32m-> 5548\u001b[0;31m             \u001b[0mnew_data\u001b[0m \u001b[0;34m=\u001b[0m \u001b[0mself\u001b[0m\u001b[0;34m.\u001b[0m\u001b[0m_mgr\u001b[0m\u001b[0;34m.\u001b[0m\u001b[0mastype\u001b[0m\u001b[0;34m(\u001b[0m\u001b[0mdtype\u001b[0m\u001b[0;34m=\u001b[0m\u001b[0mdtype\u001b[0m\u001b[0;34m,\u001b[0m \u001b[0mcopy\u001b[0m\u001b[0;34m=\u001b[0m\u001b[0mcopy\u001b[0m\u001b[0;34m,\u001b[0m \u001b[0merrors\u001b[0m\u001b[0;34m=\u001b[0m\u001b[0merrors\u001b[0m\u001b[0;34m,\u001b[0m\u001b[0;34m)\u001b[0m\u001b[0;34m\u001b[0m\u001b[0;34m\u001b[0m\u001b[0m\n\u001b[0m\u001b[1;32m   5549\u001b[0m             \u001b[0;32mreturn\u001b[0m \u001b[0mself\u001b[0m\u001b[0;34m.\u001b[0m\u001b[0m_constructor\u001b[0m\u001b[0;34m(\u001b[0m\u001b[0mnew_data\u001b[0m\u001b[0;34m)\u001b[0m\u001b[0;34m.\u001b[0m\u001b[0m__finalize__\u001b[0m\u001b[0;34m(\u001b[0m\u001b[0mself\u001b[0m\u001b[0;34m,\u001b[0m \u001b[0mmethod\u001b[0m\u001b[0;34m=\u001b[0m\u001b[0;34m\"astype\"\u001b[0m\u001b[0;34m)\u001b[0m\u001b[0;34m\u001b[0m\u001b[0;34m\u001b[0m\u001b[0m\n\u001b[1;32m   5550\u001b[0m \u001b[0;34m\u001b[0m\u001b[0m\n",
            "\u001b[0;32m/usr/local/lib/python3.7/dist-packages/pandas/core/internals/managers.py\u001b[0m in \u001b[0;36mastype\u001b[0;34m(self, dtype, copy, errors)\u001b[0m\n\u001b[1;32m    602\u001b[0m         \u001b[0mself\u001b[0m\u001b[0;34m,\u001b[0m \u001b[0mdtype\u001b[0m\u001b[0;34m,\u001b[0m \u001b[0mcopy\u001b[0m\u001b[0;34m:\u001b[0m \u001b[0mbool\u001b[0m \u001b[0;34m=\u001b[0m \u001b[0;32mFalse\u001b[0m\u001b[0;34m,\u001b[0m \u001b[0merrors\u001b[0m\u001b[0;34m:\u001b[0m \u001b[0mstr\u001b[0m \u001b[0;34m=\u001b[0m \u001b[0;34m\"raise\"\u001b[0m\u001b[0;34m\u001b[0m\u001b[0;34m\u001b[0m\u001b[0m\n\u001b[1;32m    603\u001b[0m     ) -> \"BlockManager\":\n\u001b[0;32m--> 604\u001b[0;31m         \u001b[0;32mreturn\u001b[0m \u001b[0mself\u001b[0m\u001b[0;34m.\u001b[0m\u001b[0mapply\u001b[0m\u001b[0;34m(\u001b[0m\u001b[0;34m\"astype\"\u001b[0m\u001b[0;34m,\u001b[0m \u001b[0mdtype\u001b[0m\u001b[0;34m=\u001b[0m\u001b[0mdtype\u001b[0m\u001b[0;34m,\u001b[0m \u001b[0mcopy\u001b[0m\u001b[0;34m=\u001b[0m\u001b[0mcopy\u001b[0m\u001b[0;34m,\u001b[0m \u001b[0merrors\u001b[0m\u001b[0;34m=\u001b[0m\u001b[0merrors\u001b[0m\u001b[0;34m)\u001b[0m\u001b[0;34m\u001b[0m\u001b[0;34m\u001b[0m\u001b[0m\n\u001b[0m\u001b[1;32m    605\u001b[0m \u001b[0;34m\u001b[0m\u001b[0m\n\u001b[1;32m    606\u001b[0m     def convert(\n",
            "\u001b[0;32m/usr/local/lib/python3.7/dist-packages/pandas/core/internals/managers.py\u001b[0m in \u001b[0;36mapply\u001b[0;34m(self, f, align_keys, **kwargs)\u001b[0m\n\u001b[1;32m    407\u001b[0m                 \u001b[0mapplied\u001b[0m \u001b[0;34m=\u001b[0m \u001b[0mb\u001b[0m\u001b[0;34m.\u001b[0m\u001b[0mapply\u001b[0m\u001b[0;34m(\u001b[0m\u001b[0mf\u001b[0m\u001b[0;34m,\u001b[0m \u001b[0;34m**\u001b[0m\u001b[0mkwargs\u001b[0m\u001b[0;34m)\u001b[0m\u001b[0;34m\u001b[0m\u001b[0;34m\u001b[0m\u001b[0m\n\u001b[1;32m    408\u001b[0m             \u001b[0;32melse\u001b[0m\u001b[0;34m:\u001b[0m\u001b[0;34m\u001b[0m\u001b[0;34m\u001b[0m\u001b[0m\n\u001b[0;32m--> 409\u001b[0;31m                 \u001b[0mapplied\u001b[0m \u001b[0;34m=\u001b[0m \u001b[0mgetattr\u001b[0m\u001b[0;34m(\u001b[0m\u001b[0mb\u001b[0m\u001b[0;34m,\u001b[0m \u001b[0mf\u001b[0m\u001b[0;34m)\u001b[0m\u001b[0;34m(\u001b[0m\u001b[0;34m**\u001b[0m\u001b[0mkwargs\u001b[0m\u001b[0;34m)\u001b[0m\u001b[0;34m\u001b[0m\u001b[0;34m\u001b[0m\u001b[0m\n\u001b[0m\u001b[1;32m    410\u001b[0m             \u001b[0mresult_blocks\u001b[0m \u001b[0;34m=\u001b[0m \u001b[0m_extend_blocks\u001b[0m\u001b[0;34m(\u001b[0m\u001b[0mapplied\u001b[0m\u001b[0;34m,\u001b[0m \u001b[0mresult_blocks\u001b[0m\u001b[0;34m)\u001b[0m\u001b[0;34m\u001b[0m\u001b[0;34m\u001b[0m\u001b[0m\n\u001b[1;32m    411\u001b[0m \u001b[0;34m\u001b[0m\u001b[0m\n",
            "\u001b[0;32m/usr/local/lib/python3.7/dist-packages/pandas/core/internals/blocks.py\u001b[0m in \u001b[0;36mastype\u001b[0;34m(self, dtype, copy, errors)\u001b[0m\n\u001b[1;32m    593\u001b[0m             \u001b[0mvals1d\u001b[0m \u001b[0;34m=\u001b[0m \u001b[0mvalues\u001b[0m\u001b[0;34m.\u001b[0m\u001b[0mravel\u001b[0m\u001b[0;34m(\u001b[0m\u001b[0;34m)\u001b[0m\u001b[0;34m\u001b[0m\u001b[0;34m\u001b[0m\u001b[0m\n\u001b[1;32m    594\u001b[0m             \u001b[0;32mtry\u001b[0m\u001b[0;34m:\u001b[0m\u001b[0;34m\u001b[0m\u001b[0;34m\u001b[0m\u001b[0m\n\u001b[0;32m--> 595\u001b[0;31m                 \u001b[0mvalues\u001b[0m \u001b[0;34m=\u001b[0m \u001b[0mastype_nansafe\u001b[0m\u001b[0;34m(\u001b[0m\u001b[0mvals1d\u001b[0m\u001b[0;34m,\u001b[0m \u001b[0mdtype\u001b[0m\u001b[0;34m,\u001b[0m \u001b[0mcopy\u001b[0m\u001b[0;34m=\u001b[0m\u001b[0;32mTrue\u001b[0m\u001b[0;34m)\u001b[0m\u001b[0;34m\u001b[0m\u001b[0;34m\u001b[0m\u001b[0m\n\u001b[0m\u001b[1;32m    596\u001b[0m             \u001b[0;32mexcept\u001b[0m \u001b[0;34m(\u001b[0m\u001b[0mValueError\u001b[0m\u001b[0;34m,\u001b[0m \u001b[0mTypeError\u001b[0m\u001b[0;34m)\u001b[0m\u001b[0;34m:\u001b[0m\u001b[0;34m\u001b[0m\u001b[0;34m\u001b[0m\u001b[0m\n\u001b[1;32m    597\u001b[0m                 \u001b[0;31m# e.g. astype_nansafe can fail on object-dtype of strings\u001b[0m\u001b[0;34m\u001b[0m\u001b[0;34m\u001b[0m\u001b[0;34m\u001b[0m\u001b[0m\n",
            "\u001b[0;32m/usr/local/lib/python3.7/dist-packages/pandas/core/dtypes/cast.py\u001b[0m in \u001b[0;36mastype_nansafe\u001b[0;34m(arr, dtype, copy, skipna)\u001b[0m\n\u001b[1;32m    995\u001b[0m     \u001b[0;32mif\u001b[0m \u001b[0mcopy\u001b[0m \u001b[0;32mor\u001b[0m \u001b[0mis_object_dtype\u001b[0m\u001b[0;34m(\u001b[0m\u001b[0marr\u001b[0m\u001b[0;34m)\u001b[0m \u001b[0;32mor\u001b[0m \u001b[0mis_object_dtype\u001b[0m\u001b[0;34m(\u001b[0m\u001b[0mdtype\u001b[0m\u001b[0;34m)\u001b[0m\u001b[0;34m:\u001b[0m\u001b[0;34m\u001b[0m\u001b[0;34m\u001b[0m\u001b[0m\n\u001b[1;32m    996\u001b[0m         \u001b[0;31m# Explicit copy, or required since NumPy can't view from / to object.\u001b[0m\u001b[0;34m\u001b[0m\u001b[0;34m\u001b[0m\u001b[0;34m\u001b[0m\u001b[0m\n\u001b[0;32m--> 997\u001b[0;31m         \u001b[0;32mreturn\u001b[0m \u001b[0marr\u001b[0m\u001b[0;34m.\u001b[0m\u001b[0mastype\u001b[0m\u001b[0;34m(\u001b[0m\u001b[0mdtype\u001b[0m\u001b[0;34m,\u001b[0m \u001b[0mcopy\u001b[0m\u001b[0;34m=\u001b[0m\u001b[0;32mTrue\u001b[0m\u001b[0;34m)\u001b[0m\u001b[0;34m\u001b[0m\u001b[0;34m\u001b[0m\u001b[0m\n\u001b[0m\u001b[1;32m    998\u001b[0m \u001b[0;34m\u001b[0m\u001b[0m\n\u001b[1;32m    999\u001b[0m     \u001b[0;32mreturn\u001b[0m \u001b[0marr\u001b[0m\u001b[0;34m.\u001b[0m\u001b[0mview\u001b[0m\u001b[0;34m(\u001b[0m\u001b[0mdtype\u001b[0m\u001b[0;34m)\u001b[0m\u001b[0;34m\u001b[0m\u001b[0;34m\u001b[0m\u001b[0m\n",
            "\u001b[0;31mValueError\u001b[0m: could not convert string to float: 'horsepower'"
          ]
        }
      ]
    },
    {
      "cell_type": "code",
      "metadata": {
        "id": "FV13H-gmT-cs"
      },
      "source": [
        ""
      ],
      "execution_count": null,
      "outputs": []
    },
    {
      "cell_type": "markdown",
      "metadata": {
        "id": "IgQUtKVrKLbz"
      },
      "source": [
        "## KNN"
      ]
    },
    {
      "cell_type": "code",
      "metadata": {
        "id": "ZxgSI2ufKN6T"
      },
      "source": [
        "# 데이터 준비\n",
        "import pandas as pd\n",
        "import seaborn as sns"
      ],
      "execution_count": null,
      "outputs": []
    },
    {
      "cell_type": "code",
      "metadata": {
        "id": "V-rRySI_Kfyd"
      },
      "source": [
        "df = sns.load_dataset('titanic')"
      ],
      "execution_count": null,
      "outputs": []
    },
    {
      "cell_type": "code",
      "metadata": {
        "colab": {
          "base_uri": "https://localhost:8080/",
          "height": 204
        },
        "id": "7W4KNlzmKmj5",
        "outputId": "2eca394b-1636-4b97-ec84-8a2da3cb24e2"
      },
      "source": [
        "df.head()"
      ],
      "execution_count": null,
      "outputs": [
        {
          "output_type": "execute_result",
          "data": {
            "text/html": [
              "<div>\n",
              "<style scoped>\n",
              "    .dataframe tbody tr th:only-of-type {\n",
              "        vertical-align: middle;\n",
              "    }\n",
              "\n",
              "    .dataframe tbody tr th {\n",
              "        vertical-align: top;\n",
              "    }\n",
              "\n",
              "    .dataframe thead th {\n",
              "        text-align: right;\n",
              "    }\n",
              "</style>\n",
              "<table border=\"1\" class=\"dataframe\">\n",
              "  <thead>\n",
              "    <tr style=\"text-align: right;\">\n",
              "      <th></th>\n",
              "      <th>survived</th>\n",
              "      <th>pclass</th>\n",
              "      <th>sex</th>\n",
              "      <th>age</th>\n",
              "      <th>sibsp</th>\n",
              "      <th>parch</th>\n",
              "      <th>fare</th>\n",
              "      <th>embarked</th>\n",
              "      <th>class</th>\n",
              "      <th>who</th>\n",
              "      <th>adult_male</th>\n",
              "      <th>deck</th>\n",
              "      <th>embark_town</th>\n",
              "      <th>alive</th>\n",
              "      <th>alone</th>\n",
              "    </tr>\n",
              "  </thead>\n",
              "  <tbody>\n",
              "    <tr>\n",
              "      <th>0</th>\n",
              "      <td>0</td>\n",
              "      <td>3</td>\n",
              "      <td>male</td>\n",
              "      <td>22.0</td>\n",
              "      <td>1</td>\n",
              "      <td>0</td>\n",
              "      <td>7.2500</td>\n",
              "      <td>S</td>\n",
              "      <td>Third</td>\n",
              "      <td>man</td>\n",
              "      <td>True</td>\n",
              "      <td>NaN</td>\n",
              "      <td>Southampton</td>\n",
              "      <td>no</td>\n",
              "      <td>False</td>\n",
              "    </tr>\n",
              "    <tr>\n",
              "      <th>1</th>\n",
              "      <td>1</td>\n",
              "      <td>1</td>\n",
              "      <td>female</td>\n",
              "      <td>38.0</td>\n",
              "      <td>1</td>\n",
              "      <td>0</td>\n",
              "      <td>71.2833</td>\n",
              "      <td>C</td>\n",
              "      <td>First</td>\n",
              "      <td>woman</td>\n",
              "      <td>False</td>\n",
              "      <td>C</td>\n",
              "      <td>Cherbourg</td>\n",
              "      <td>yes</td>\n",
              "      <td>False</td>\n",
              "    </tr>\n",
              "    <tr>\n",
              "      <th>2</th>\n",
              "      <td>1</td>\n",
              "      <td>3</td>\n",
              "      <td>female</td>\n",
              "      <td>26.0</td>\n",
              "      <td>0</td>\n",
              "      <td>0</td>\n",
              "      <td>7.9250</td>\n",
              "      <td>S</td>\n",
              "      <td>Third</td>\n",
              "      <td>woman</td>\n",
              "      <td>False</td>\n",
              "      <td>NaN</td>\n",
              "      <td>Southampton</td>\n",
              "      <td>yes</td>\n",
              "      <td>True</td>\n",
              "    </tr>\n",
              "    <tr>\n",
              "      <th>3</th>\n",
              "      <td>1</td>\n",
              "      <td>1</td>\n",
              "      <td>female</td>\n",
              "      <td>35.0</td>\n",
              "      <td>1</td>\n",
              "      <td>0</td>\n",
              "      <td>53.1000</td>\n",
              "      <td>S</td>\n",
              "      <td>First</td>\n",
              "      <td>woman</td>\n",
              "      <td>False</td>\n",
              "      <td>C</td>\n",
              "      <td>Southampton</td>\n",
              "      <td>yes</td>\n",
              "      <td>False</td>\n",
              "    </tr>\n",
              "    <tr>\n",
              "      <th>4</th>\n",
              "      <td>0</td>\n",
              "      <td>3</td>\n",
              "      <td>male</td>\n",
              "      <td>35.0</td>\n",
              "      <td>0</td>\n",
              "      <td>0</td>\n",
              "      <td>8.0500</td>\n",
              "      <td>S</td>\n",
              "      <td>Third</td>\n",
              "      <td>man</td>\n",
              "      <td>True</td>\n",
              "      <td>NaN</td>\n",
              "      <td>Southampton</td>\n",
              "      <td>no</td>\n",
              "      <td>True</td>\n",
              "    </tr>\n",
              "  </tbody>\n",
              "</table>\n",
              "</div>"
            ],
            "text/plain": [
              "   survived  pclass     sex   age  ...  deck  embark_town  alive  alone\n",
              "0         0       3    male  22.0  ...   NaN  Southampton     no  False\n",
              "1         1       1  female  38.0  ...     C    Cherbourg    yes  False\n",
              "2         1       3  female  26.0  ...   NaN  Southampton    yes   True\n",
              "3         1       1  female  35.0  ...     C  Southampton    yes  False\n",
              "4         0       3    male  35.0  ...   NaN  Southampton     no   True\n",
              "\n",
              "[5 rows x 15 columns]"
            ]
          },
          "metadata": {
            "tags": []
          },
          "execution_count": 19
        }
      ]
    },
    {
      "cell_type": "code",
      "metadata": {
        "colab": {
          "base_uri": "https://localhost:8080/"
        },
        "id": "OrnYCM6MKnXd",
        "outputId": "d8e2b82b-0a1e-45e8-df77-62856e3aec33"
      },
      "source": [
        "df.info()"
      ],
      "execution_count": null,
      "outputs": [
        {
          "output_type": "stream",
          "text": [
            "<class 'pandas.core.frame.DataFrame'>\n",
            "RangeIndex: 891 entries, 0 to 890\n",
            "Data columns (total 15 columns):\n",
            " #   Column       Non-Null Count  Dtype   \n",
            "---  ------       --------------  -----   \n",
            " 0   survived     891 non-null    int64   \n",
            " 1   pclass       891 non-null    int64   \n",
            " 2   sex          891 non-null    object  \n",
            " 3   age          714 non-null    float64 \n",
            " 4   sibsp        891 non-null    int64   \n",
            " 5   parch        891 non-null    int64   \n",
            " 6   fare         891 non-null    float64 \n",
            " 7   embarked     889 non-null    object  \n",
            " 8   class        891 non-null    category\n",
            " 9   who          891 non-null    object  \n",
            " 10  adult_male   891 non-null    bool    \n",
            " 11  deck         203 non-null    category\n",
            " 12  embark_town  889 non-null    object  \n",
            " 13  alive        891 non-null    object  \n",
            " 14  alone        891 non-null    bool    \n",
            "dtypes: bool(2), category(2), float64(2), int64(4), object(5)\n",
            "memory usage: 80.6+ KB\n"
          ],
          "name": "stdout"
        }
      ]
    },
    {
      "cell_type": "code",
      "metadata": {
        "id": "kPl1vn01KzbP"
      },
      "source": [
        "rdf = df.drop(['deck','embark_town'],axis=1)"
      ],
      "execution_count": null,
      "outputs": []
    },
    {
      "cell_type": "code",
      "metadata": {
        "id": "HohwZBo-Ma0X"
      },
      "source": [
        "rdf = rdf.dropna(subset=['age'], how='any', axis=0)"
      ],
      "execution_count": null,
      "outputs": []
    },
    {
      "cell_type": "code",
      "metadata": {
        "colab": {
          "base_uri": "https://localhost:8080/",
          "height": 168
        },
        "id": "yFCLy6oLMoYx",
        "outputId": "ea367a6e-a8db-4f1e-f5cd-2278b2a32ef5"
      },
      "source": [
        "mf = rdf['embarked'].value_counts(dropna=True),idxmax()"
      ],
      "execution_count": null,
      "outputs": [
        {
          "output_type": "error",
          "ename": "NameError",
          "evalue": "ignored",
          "traceback": [
            "\u001b[0;31m---------------------------------------------------------------------------\u001b[0m",
            "\u001b[0;31mNameError\u001b[0m                                 Traceback (most recent call last)",
            "\u001b[0;32m<ipython-input-34-e8586f2374ae>\u001b[0m in \u001b[0;36m<module>\u001b[0;34m()\u001b[0m\n\u001b[0;32m----> 1\u001b[0;31m \u001b[0mmf\u001b[0m \u001b[0;34m=\u001b[0m \u001b[0mrdf\u001b[0m\u001b[0;34m[\u001b[0m\u001b[0;34m'embarked'\u001b[0m\u001b[0;34m]\u001b[0m\u001b[0;34m.\u001b[0m\u001b[0mvalue_counts\u001b[0m\u001b[0;34m(\u001b[0m\u001b[0mdropna\u001b[0m\u001b[0;34m=\u001b[0m\u001b[0;32mTrue\u001b[0m\u001b[0;34m)\u001b[0m\u001b[0;34m,\u001b[0m\u001b[0midxmax\u001b[0m\u001b[0;34m(\u001b[0m\u001b[0;34m)\u001b[0m\u001b[0;34m\u001b[0m\u001b[0;34m\u001b[0m\u001b[0m\n\u001b[0m",
            "\u001b[0;31mNameError\u001b[0m: name 'idxmax' is not defined"
          ]
        }
      ]
    },
    {
      "cell_type": "code",
      "metadata": {
        "colab": {
          "base_uri": "https://localhost:8080/"
        },
        "id": "4ExZzHKgNDxe",
        "outputId": "42d05872-fcf4-4369-cbbe-d2255195fe43"
      },
      "source": [
        "rdf['age'].unique()"
      ],
      "execution_count": null,
      "outputs": [
        {
          "output_type": "execute_result",
          "data": {
            "text/plain": [
              "array([22.  , 38.  , 26.  , 35.  , 54.  ,  2.  , 27.  , 14.  ,  4.  ,\n",
              "       58.  , 20.  , 39.  , 55.  , 31.  , 34.  , 15.  , 28.  ,  8.  ,\n",
              "       19.  , 40.  , 66.  , 42.  , 21.  , 18.  ,  3.  ,  7.  , 49.  ,\n",
              "       29.  , 65.  , 28.5 ,  5.  , 11.  , 45.  , 17.  , 32.  , 16.  ,\n",
              "       25.  ,  0.83, 30.  , 33.  , 23.  , 24.  , 46.  , 59.  , 71.  ,\n",
              "       37.  , 47.  , 14.5 , 70.5 , 32.5 , 12.  ,  9.  , 36.5 , 51.  ,\n",
              "       55.5 , 40.5 , 44.  ,  1.  , 61.  , 56.  , 50.  , 36.  , 45.5 ,\n",
              "       20.5 , 62.  , 41.  , 52.  , 63.  , 23.5 ,  0.92, 43.  , 60.  ,\n",
              "       10.  , 64.  , 13.  , 48.  ,  0.75, 53.  , 57.  , 80.  , 70.  ,\n",
              "       24.5 ,  6.  ,  0.67, 30.5 ,  0.42, 34.5 , 74.  ])"
            ]
          },
          "metadata": {
            "tags": []
          },
          "execution_count": 36
        }
      ]
    },
    {
      "cell_type": "markdown",
      "metadata": {
        "id": "XBd1_Q_iOTQ-"
      },
      "source": [
        "## 의사트리"
      ]
    },
    {
      "cell_type": "code",
      "metadata": {
        "id": "l7CCyb1cOBwo"
      },
      "source": [
        "df = sns.load_dataset('titanic')\n"
      ],
      "execution_count": null,
      "outputs": []
    },
    {
      "cell_type": "code",
      "metadata": {
        "colab": {
          "base_uri": "https://localhost:8080/",
          "height": 204
        },
        "id": "Q7UQz3lbPFND",
        "outputId": "3a2d6c43-590a-4098-8e53-b0311f32d12a"
      },
      "source": [
        "df.head()"
      ],
      "execution_count": null,
      "outputs": [
        {
          "output_type": "execute_result",
          "data": {
            "text/html": [
              "<div>\n",
              "<style scoped>\n",
              "    .dataframe tbody tr th:only-of-type {\n",
              "        vertical-align: middle;\n",
              "    }\n",
              "\n",
              "    .dataframe tbody tr th {\n",
              "        vertical-align: top;\n",
              "    }\n",
              "\n",
              "    .dataframe thead th {\n",
              "        text-align: right;\n",
              "    }\n",
              "</style>\n",
              "<table border=\"1\" class=\"dataframe\">\n",
              "  <thead>\n",
              "    <tr style=\"text-align: right;\">\n",
              "      <th></th>\n",
              "      <th>survived</th>\n",
              "      <th>pclass</th>\n",
              "      <th>sex</th>\n",
              "      <th>age</th>\n",
              "      <th>sibsp</th>\n",
              "      <th>parch</th>\n",
              "      <th>fare</th>\n",
              "      <th>embarked</th>\n",
              "      <th>class</th>\n",
              "      <th>who</th>\n",
              "      <th>adult_male</th>\n",
              "      <th>deck</th>\n",
              "      <th>embark_town</th>\n",
              "      <th>alive</th>\n",
              "      <th>alone</th>\n",
              "    </tr>\n",
              "  </thead>\n",
              "  <tbody>\n",
              "    <tr>\n",
              "      <th>0</th>\n",
              "      <td>0</td>\n",
              "      <td>3</td>\n",
              "      <td>male</td>\n",
              "      <td>22.0</td>\n",
              "      <td>1</td>\n",
              "      <td>0</td>\n",
              "      <td>7.2500</td>\n",
              "      <td>S</td>\n",
              "      <td>Third</td>\n",
              "      <td>man</td>\n",
              "      <td>True</td>\n",
              "      <td>NaN</td>\n",
              "      <td>Southampton</td>\n",
              "      <td>no</td>\n",
              "      <td>False</td>\n",
              "    </tr>\n",
              "    <tr>\n",
              "      <th>1</th>\n",
              "      <td>1</td>\n",
              "      <td>1</td>\n",
              "      <td>female</td>\n",
              "      <td>38.0</td>\n",
              "      <td>1</td>\n",
              "      <td>0</td>\n",
              "      <td>71.2833</td>\n",
              "      <td>C</td>\n",
              "      <td>First</td>\n",
              "      <td>woman</td>\n",
              "      <td>False</td>\n",
              "      <td>C</td>\n",
              "      <td>Cherbourg</td>\n",
              "      <td>yes</td>\n",
              "      <td>False</td>\n",
              "    </tr>\n",
              "    <tr>\n",
              "      <th>2</th>\n",
              "      <td>1</td>\n",
              "      <td>3</td>\n",
              "      <td>female</td>\n",
              "      <td>26.0</td>\n",
              "      <td>0</td>\n",
              "      <td>0</td>\n",
              "      <td>7.9250</td>\n",
              "      <td>S</td>\n",
              "      <td>Third</td>\n",
              "      <td>woman</td>\n",
              "      <td>False</td>\n",
              "      <td>NaN</td>\n",
              "      <td>Southampton</td>\n",
              "      <td>yes</td>\n",
              "      <td>True</td>\n",
              "    </tr>\n",
              "    <tr>\n",
              "      <th>3</th>\n",
              "      <td>1</td>\n",
              "      <td>1</td>\n",
              "      <td>female</td>\n",
              "      <td>35.0</td>\n",
              "      <td>1</td>\n",
              "      <td>0</td>\n",
              "      <td>53.1000</td>\n",
              "      <td>S</td>\n",
              "      <td>First</td>\n",
              "      <td>woman</td>\n",
              "      <td>False</td>\n",
              "      <td>C</td>\n",
              "      <td>Southampton</td>\n",
              "      <td>yes</td>\n",
              "      <td>False</td>\n",
              "    </tr>\n",
              "    <tr>\n",
              "      <th>4</th>\n",
              "      <td>0</td>\n",
              "      <td>3</td>\n",
              "      <td>male</td>\n",
              "      <td>35.0</td>\n",
              "      <td>0</td>\n",
              "      <td>0</td>\n",
              "      <td>8.0500</td>\n",
              "      <td>S</td>\n",
              "      <td>Third</td>\n",
              "      <td>man</td>\n",
              "      <td>True</td>\n",
              "      <td>NaN</td>\n",
              "      <td>Southampton</td>\n",
              "      <td>no</td>\n",
              "      <td>True</td>\n",
              "    </tr>\n",
              "  </tbody>\n",
              "</table>\n",
              "</div>"
            ],
            "text/plain": [
              "   survived  pclass     sex   age  ...  deck  embark_town  alive  alone\n",
              "0         0       3    male  22.0  ...   NaN  Southampton     no  False\n",
              "1         1       1  female  38.0  ...     C    Cherbourg    yes  False\n",
              "2         1       3  female  26.0  ...   NaN  Southampton    yes   True\n",
              "3         1       1  female  35.0  ...     C  Southampton    yes  False\n",
              "4         0       3    male  35.0  ...   NaN  Southampton     no   True\n",
              "\n",
              "[5 rows x 15 columns]"
            ]
          },
          "metadata": {
            "tags": []
          },
          "execution_count": 52
        }
      ]
    },
    {
      "cell_type": "code",
      "metadata": {
        "id": "ReBAt-EySbyo"
      },
      "source": [
        "df = pd.get_dummies(df)"
      ],
      "execution_count": null,
      "outputs": []
    },
    {
      "cell_type": "code",
      "metadata": {
        "id": "j2UuOOJATmBu"
      },
      "source": [
        "df = df.dropna()"
      ],
      "execution_count": null,
      "outputs": []
    },
    {
      "cell_type": "code",
      "metadata": {
        "colab": {
          "base_uri": "https://localhost:8080/",
          "height": 224
        },
        "id": "S5kvEpTtUMf8",
        "outputId": "3b0e0c02-6706-4acb-f16e-2c0090c3de45"
      },
      "source": [
        "df.head()"
      ],
      "execution_count": null,
      "outputs": [
        {
          "output_type": "execute_result",
          "data": {
            "text/html": [
              "<div>\n",
              "<style scoped>\n",
              "    .dataframe tbody tr th:only-of-type {\n",
              "        vertical-align: middle;\n",
              "    }\n",
              "\n",
              "    .dataframe tbody tr th {\n",
              "        vertical-align: top;\n",
              "    }\n",
              "\n",
              "    .dataframe thead th {\n",
              "        text-align: right;\n",
              "    }\n",
              "</style>\n",
              "<table border=\"1\" class=\"dataframe\">\n",
              "  <thead>\n",
              "    <tr style=\"text-align: right;\">\n",
              "      <th></th>\n",
              "      <th>survived</th>\n",
              "      <th>pclass</th>\n",
              "      <th>age</th>\n",
              "      <th>sibsp</th>\n",
              "      <th>parch</th>\n",
              "      <th>fare</th>\n",
              "      <th>adult_male</th>\n",
              "      <th>alone</th>\n",
              "      <th>sex_female</th>\n",
              "      <th>sex_male</th>\n",
              "      <th>embarked_C</th>\n",
              "      <th>embarked_Q</th>\n",
              "      <th>embarked_S</th>\n",
              "      <th>class_First</th>\n",
              "      <th>class_Second</th>\n",
              "      <th>class_Third</th>\n",
              "      <th>who_child</th>\n",
              "      <th>who_man</th>\n",
              "      <th>who_woman</th>\n",
              "      <th>deck_A</th>\n",
              "      <th>deck_B</th>\n",
              "      <th>deck_C</th>\n",
              "      <th>deck_D</th>\n",
              "      <th>deck_E</th>\n",
              "      <th>deck_F</th>\n",
              "      <th>deck_G</th>\n",
              "      <th>embark_town_Cherbourg</th>\n",
              "      <th>embark_town_Queenstown</th>\n",
              "      <th>embark_town_Southampton</th>\n",
              "      <th>alive_no</th>\n",
              "      <th>alive_yes</th>\n",
              "    </tr>\n",
              "  </thead>\n",
              "  <tbody>\n",
              "    <tr>\n",
              "      <th>0</th>\n",
              "      <td>0</td>\n",
              "      <td>3</td>\n",
              "      <td>22.0</td>\n",
              "      <td>1</td>\n",
              "      <td>0</td>\n",
              "      <td>7.2500</td>\n",
              "      <td>True</td>\n",
              "      <td>False</td>\n",
              "      <td>0</td>\n",
              "      <td>1</td>\n",
              "      <td>0</td>\n",
              "      <td>0</td>\n",
              "      <td>1</td>\n",
              "      <td>0</td>\n",
              "      <td>0</td>\n",
              "      <td>1</td>\n",
              "      <td>0</td>\n",
              "      <td>1</td>\n",
              "      <td>0</td>\n",
              "      <td>0</td>\n",
              "      <td>0</td>\n",
              "      <td>0</td>\n",
              "      <td>0</td>\n",
              "      <td>0</td>\n",
              "      <td>0</td>\n",
              "      <td>0</td>\n",
              "      <td>0</td>\n",
              "      <td>0</td>\n",
              "      <td>1</td>\n",
              "      <td>1</td>\n",
              "      <td>0</td>\n",
              "    </tr>\n",
              "    <tr>\n",
              "      <th>1</th>\n",
              "      <td>1</td>\n",
              "      <td>1</td>\n",
              "      <td>38.0</td>\n",
              "      <td>1</td>\n",
              "      <td>0</td>\n",
              "      <td>71.2833</td>\n",
              "      <td>False</td>\n",
              "      <td>False</td>\n",
              "      <td>1</td>\n",
              "      <td>0</td>\n",
              "      <td>1</td>\n",
              "      <td>0</td>\n",
              "      <td>0</td>\n",
              "      <td>1</td>\n",
              "      <td>0</td>\n",
              "      <td>0</td>\n",
              "      <td>0</td>\n",
              "      <td>0</td>\n",
              "      <td>1</td>\n",
              "      <td>0</td>\n",
              "      <td>0</td>\n",
              "      <td>1</td>\n",
              "      <td>0</td>\n",
              "      <td>0</td>\n",
              "      <td>0</td>\n",
              "      <td>0</td>\n",
              "      <td>1</td>\n",
              "      <td>0</td>\n",
              "      <td>0</td>\n",
              "      <td>0</td>\n",
              "      <td>1</td>\n",
              "    </tr>\n",
              "    <tr>\n",
              "      <th>2</th>\n",
              "      <td>1</td>\n",
              "      <td>3</td>\n",
              "      <td>26.0</td>\n",
              "      <td>0</td>\n",
              "      <td>0</td>\n",
              "      <td>7.9250</td>\n",
              "      <td>False</td>\n",
              "      <td>True</td>\n",
              "      <td>1</td>\n",
              "      <td>0</td>\n",
              "      <td>0</td>\n",
              "      <td>0</td>\n",
              "      <td>1</td>\n",
              "      <td>0</td>\n",
              "      <td>0</td>\n",
              "      <td>1</td>\n",
              "      <td>0</td>\n",
              "      <td>0</td>\n",
              "      <td>1</td>\n",
              "      <td>0</td>\n",
              "      <td>0</td>\n",
              "      <td>0</td>\n",
              "      <td>0</td>\n",
              "      <td>0</td>\n",
              "      <td>0</td>\n",
              "      <td>0</td>\n",
              "      <td>0</td>\n",
              "      <td>0</td>\n",
              "      <td>1</td>\n",
              "      <td>0</td>\n",
              "      <td>1</td>\n",
              "    </tr>\n",
              "    <tr>\n",
              "      <th>3</th>\n",
              "      <td>1</td>\n",
              "      <td>1</td>\n",
              "      <td>35.0</td>\n",
              "      <td>1</td>\n",
              "      <td>0</td>\n",
              "      <td>53.1000</td>\n",
              "      <td>False</td>\n",
              "      <td>False</td>\n",
              "      <td>1</td>\n",
              "      <td>0</td>\n",
              "      <td>0</td>\n",
              "      <td>0</td>\n",
              "      <td>1</td>\n",
              "      <td>1</td>\n",
              "      <td>0</td>\n",
              "      <td>0</td>\n",
              "      <td>0</td>\n",
              "      <td>0</td>\n",
              "      <td>1</td>\n",
              "      <td>0</td>\n",
              "      <td>0</td>\n",
              "      <td>1</td>\n",
              "      <td>0</td>\n",
              "      <td>0</td>\n",
              "      <td>0</td>\n",
              "      <td>0</td>\n",
              "      <td>0</td>\n",
              "      <td>0</td>\n",
              "      <td>1</td>\n",
              "      <td>0</td>\n",
              "      <td>1</td>\n",
              "    </tr>\n",
              "    <tr>\n",
              "      <th>4</th>\n",
              "      <td>0</td>\n",
              "      <td>3</td>\n",
              "      <td>35.0</td>\n",
              "      <td>0</td>\n",
              "      <td>0</td>\n",
              "      <td>8.0500</td>\n",
              "      <td>True</td>\n",
              "      <td>True</td>\n",
              "      <td>0</td>\n",
              "      <td>1</td>\n",
              "      <td>0</td>\n",
              "      <td>0</td>\n",
              "      <td>1</td>\n",
              "      <td>0</td>\n",
              "      <td>0</td>\n",
              "      <td>1</td>\n",
              "      <td>0</td>\n",
              "      <td>1</td>\n",
              "      <td>0</td>\n",
              "      <td>0</td>\n",
              "      <td>0</td>\n",
              "      <td>0</td>\n",
              "      <td>0</td>\n",
              "      <td>0</td>\n",
              "      <td>0</td>\n",
              "      <td>0</td>\n",
              "      <td>0</td>\n",
              "      <td>0</td>\n",
              "      <td>1</td>\n",
              "      <td>1</td>\n",
              "      <td>0</td>\n",
              "    </tr>\n",
              "  </tbody>\n",
              "</table>\n",
              "</div>"
            ],
            "text/plain": [
              "   survived  pclass   age  ...  embark_town_Southampton  alive_no  alive_yes\n",
              "0         0       3  22.0  ...                        1         1          0\n",
              "1         1       1  38.0  ...                        0         0          1\n",
              "2         1       3  26.0  ...                        1         0          1\n",
              "3         1       1  35.0  ...                        1         0          1\n",
              "4         0       3  35.0  ...                        1         1          0\n",
              "\n",
              "[5 rows x 31 columns]"
            ]
          },
          "metadata": {
            "tags": []
          },
          "execution_count": 80
        }
      ]
    },
    {
      "cell_type": "code",
      "metadata": {
        "id": "RnWv974mOeck"
      },
      "source": [
        "## 데이터 분할\n",
        "\n",
        "# 종속, 독립변수 데이터 분리\n",
        "x = df.iloc[:,1:10]\n",
        "y = df['survived']"
      ],
      "execution_count": null,
      "outputs": []
    },
    {
      "cell_type": "code",
      "metadata": {
        "id": "sIQe16IVPnxy"
      },
      "source": [
        "# 분할 함수 불러오기\n",
        "from sklearn.model_selection import train_test_split"
      ],
      "execution_count": null,
      "outputs": []
    },
    {
      "cell_type": "code",
      "metadata": {
        "id": "OIODc6drP1kT"
      },
      "source": [
        "X_train, X_test, y_train, y_test = train_test_split(x,y, test_size = 0.3, random_state=10)"
      ],
      "execution_count": null,
      "outputs": []
    },
    {
      "cell_type": "code",
      "metadata": {
        "id": "5NTfrzoKQ-Eu"
      },
      "source": [
        "## 모델 학습\n",
        "from sklearn import tree"
      ],
      "execution_count": null,
      "outputs": []
    },
    {
      "cell_type": "code",
      "metadata": {
        "id": "oQbhfGPhRNti"
      },
      "source": [
        "tree_model = tree.DecisionTreeClassifier(criterion='entropy', max_depth=5)"
      ],
      "execution_count": null,
      "outputs": []
    },
    {
      "cell_type": "code",
      "metadata": {
        "colab": {
          "base_uri": "https://localhost:8080/"
        },
        "id": "0K6oj_6qRgpC",
        "outputId": "4fcdc21b-4aa8-426d-ed83-81aad66bb760"
      },
      "source": [
        "tree_model.fit(X_train, y_train)"
      ],
      "execution_count": null,
      "outputs": [
        {
          "output_type": "execute_result",
          "data": {
            "text/plain": [
              "DecisionTreeClassifier(ccp_alpha=0.0, class_weight=None, criterion='entropy',\n",
              "                       max_depth=5, max_features=None, max_leaf_nodes=None,\n",
              "                       min_impurity_decrease=0.0, min_impurity_split=None,\n",
              "                       min_samples_leaf=1, min_samples_split=2,\n",
              "                       min_weight_fraction_leaf=0.0, presort='deprecated',\n",
              "                       random_state=None, splitter='best')"
            ]
          },
          "metadata": {
            "tags": []
          },
          "execution_count": 84
        }
      ]
    },
    {
      "cell_type": "code",
      "metadata": {
        "id": "cFZxCJNxSCb2"
      },
      "source": [
        "y_hat = tree_model.predict(X_test)"
      ],
      "execution_count": null,
      "outputs": []
    },
    {
      "cell_type": "code",
      "metadata": {
        "colab": {
          "base_uri": "https://localhost:8080/"
        },
        "id": "vUlFSapyVFbs",
        "outputId": "42e8af58-3482-478a-c4f5-b5adadcbc5ad"
      },
      "source": [
        "y_hat"
      ],
      "execution_count": null,
      "outputs": [
        {
          "output_type": "execute_result",
          "data": {
            "text/plain": [
              "array([0, 0, 1, 0, 0, 1, 1, 0, 0, 0, 1, 1, 0, 0, 0, 1, 0, 0, 0, 0, 1, 0,\n",
              "       0, 0, 0, 0, 1, 0, 0, 0, 1, 0, 1, 1, 0, 0, 1, 0, 1, 1, 0, 0, 0, 0,\n",
              "       0, 0, 0, 0, 1, 1, 1, 0, 1, 1, 1, 1, 1, 0, 0, 0, 1, 0, 0, 0, 0, 1,\n",
              "       1, 0, 0, 0, 0, 0, 1, 0, 0, 0, 0, 0, 0, 0, 1, 0, 0, 0, 0, 0, 0, 0,\n",
              "       1, 1, 1, 0, 0, 1, 0, 0, 0, 0, 0, 0, 1, 0, 1, 0, 0, 0, 0, 0, 1, 0,\n",
              "       0, 0, 1, 0, 0, 0, 1, 1, 1, 1, 1, 0, 1, 0, 0, 0, 0, 1, 0, 0, 0, 0,\n",
              "       0, 0, 1, 0, 0, 0, 1, 0, 1, 0, 0, 0, 0, 0, 1, 0, 0, 1, 0, 1, 0, 0,\n",
              "       0, 0, 1, 0, 0, 1, 0, 0, 0, 1, 0, 0, 0, 0, 0, 1, 0, 0, 0, 1, 0, 0,\n",
              "       1, 1, 0, 1, 0, 1, 0, 0, 1, 0, 0, 0, 0, 0, 1, 0, 0, 0, 1, 1, 0, 1,\n",
              "       0, 0, 0, 0, 0, 0, 0, 0, 1, 0, 0, 0, 0, 0, 0, 0, 0])"
            ]
          },
          "metadata": {
            "tags": []
          },
          "execution_count": 86
        }
      ]
    },
    {
      "cell_type": "code",
      "metadata": {
        "colab": {
          "base_uri": "https://localhost:8080/"
        },
        "id": "cKASbRXUVH55",
        "outputId": "652f4f32-d33d-4a5c-ede3-9c2f7b2608e0"
      },
      "source": [
        "from sklearn import metrics\n",
        "tree_matrix = metrics.confusion_matrix(y_test, y_hat)\n",
        "tree_matrix"
      ],
      "execution_count": null,
      "outputs": [
        {
          "output_type": "execute_result",
          "data": {
            "text/plain": [
              "array([[118,   7],\n",
              "       [ 34,  56]])"
            ]
          },
          "metadata": {
            "tags": []
          },
          "execution_count": 87
        }
      ]
    },
    {
      "cell_type": "code",
      "metadata": {
        "colab": {
          "base_uri": "https://localhost:8080/"
        },
        "id": "pVj5_ESQVxTw",
        "outputId": "684ca821-bee9-4c0e-9ad8-4f809f669c2f"
      },
      "source": [
        "tree_report = metrics.classification_report(y_test, y_hat)\n",
        "print(tree_report)"
      ],
      "execution_count": null,
      "outputs": [
        {
          "output_type": "stream",
          "text": [
            "              precision    recall  f1-score   support\n",
            "\n",
            "           0       0.78      0.94      0.85       125\n",
            "           1       0.89      0.62      0.73        90\n",
            "\n",
            "    accuracy                           0.81       215\n",
            "   macro avg       0.83      0.78      0.79       215\n",
            "weighted avg       0.82      0.81      0.80       215\n",
            "\n"
          ],
          "name": "stdout"
        }
      ]
    },
    {
      "cell_type": "markdown",
      "metadata": {
        "id": "Bx4GoBHmW-YO"
      },
      "source": [
        "##  k-Means"
      ]
    },
    {
      "cell_type": "code",
      "metadata": {
        "id": "enr0mUzcW955"
      },
      "source": [
        ""
      ],
      "execution_count": null,
      "outputs": []
    },
    {
      "cell_type": "code",
      "metadata": {
        "id": "Jg7CKiYDWQhv"
      },
      "source": [
        "# 데이터셋의 주소를 불러들여도 작동한다.\n",
        "path = 'https://archive.ics.uci.edu/ml/machine-learning-databases/00292/Wholesale%20customers%20data.csv'\n",
        "df = pd.read_csv(path)\n"
      ],
      "execution_count": null,
      "outputs": []
    },
    {
      "cell_type": "code",
      "metadata": {
        "colab": {
          "base_uri": "https://localhost:8080/",
          "height": 204
        },
        "id": "KBDAfyC3YEgR",
        "outputId": "60f379df-3106-4f10-bdec-7ad5fa1025a7"
      },
      "source": [
        "df[:5]"
      ],
      "execution_count": null,
      "outputs": [
        {
          "output_type": "execute_result",
          "data": {
            "text/html": [
              "<div>\n",
              "<style scoped>\n",
              "    .dataframe tbody tr th:only-of-type {\n",
              "        vertical-align: middle;\n",
              "    }\n",
              "\n",
              "    .dataframe tbody tr th {\n",
              "        vertical-align: top;\n",
              "    }\n",
              "\n",
              "    .dataframe thead th {\n",
              "        text-align: right;\n",
              "    }\n",
              "</style>\n",
              "<table border=\"1\" class=\"dataframe\">\n",
              "  <thead>\n",
              "    <tr style=\"text-align: right;\">\n",
              "      <th></th>\n",
              "      <th>Channel</th>\n",
              "      <th>Region</th>\n",
              "      <th>Fresh</th>\n",
              "      <th>Milk</th>\n",
              "      <th>Grocery</th>\n",
              "      <th>Frozen</th>\n",
              "      <th>Detergents_Paper</th>\n",
              "      <th>Delicassen</th>\n",
              "    </tr>\n",
              "  </thead>\n",
              "  <tbody>\n",
              "    <tr>\n",
              "      <th>0</th>\n",
              "      <td>2</td>\n",
              "      <td>3</td>\n",
              "      <td>12669</td>\n",
              "      <td>9656</td>\n",
              "      <td>7561</td>\n",
              "      <td>214</td>\n",
              "      <td>2674</td>\n",
              "      <td>1338</td>\n",
              "    </tr>\n",
              "    <tr>\n",
              "      <th>1</th>\n",
              "      <td>2</td>\n",
              "      <td>3</td>\n",
              "      <td>7057</td>\n",
              "      <td>9810</td>\n",
              "      <td>9568</td>\n",
              "      <td>1762</td>\n",
              "      <td>3293</td>\n",
              "      <td>1776</td>\n",
              "    </tr>\n",
              "    <tr>\n",
              "      <th>2</th>\n",
              "      <td>2</td>\n",
              "      <td>3</td>\n",
              "      <td>6353</td>\n",
              "      <td>8808</td>\n",
              "      <td>7684</td>\n",
              "      <td>2405</td>\n",
              "      <td>3516</td>\n",
              "      <td>7844</td>\n",
              "    </tr>\n",
              "    <tr>\n",
              "      <th>3</th>\n",
              "      <td>1</td>\n",
              "      <td>3</td>\n",
              "      <td>13265</td>\n",
              "      <td>1196</td>\n",
              "      <td>4221</td>\n",
              "      <td>6404</td>\n",
              "      <td>507</td>\n",
              "      <td>1788</td>\n",
              "    </tr>\n",
              "    <tr>\n",
              "      <th>4</th>\n",
              "      <td>2</td>\n",
              "      <td>3</td>\n",
              "      <td>22615</td>\n",
              "      <td>5410</td>\n",
              "      <td>7198</td>\n",
              "      <td>3915</td>\n",
              "      <td>1777</td>\n",
              "      <td>5185</td>\n",
              "    </tr>\n",
              "  </tbody>\n",
              "</table>\n",
              "</div>"
            ],
            "text/plain": [
              "   Channel  Region  Fresh  Milk  Grocery  Frozen  Detergents_Paper  Delicassen\n",
              "0        2       3  12669  9656     7561     214              2674        1338\n",
              "1        2       3   7057  9810     9568    1762              3293        1776\n",
              "2        2       3   6353  8808     7684    2405              3516        7844\n",
              "3        1       3  13265  1196     4221    6404               507        1788\n",
              "4        2       3  22615  5410     7198    3915              1777        5185"
            ]
          },
          "metadata": {
            "tags": []
          },
          "execution_count": 92
        }
      ]
    },
    {
      "cell_type": "code",
      "metadata": {
        "id": "nrvP50wdYFoT"
      },
      "source": [
        "# 정규화 함수 불러오기\n",
        "from sklearn import preprocessing"
      ],
      "execution_count": null,
      "outputs": []
    },
    {
      "cell_type": "code",
      "metadata": {
        "colab": {
          "base_uri": "https://localhost:8080/"
        },
        "id": "EeceSnkhZuvJ",
        "outputId": "561f5b8f-3220-4df2-c0cc-be0141e28497"
      },
      "source": [
        "x = preprocessing.StandardScaler().fit(df).transform(df)\n",
        "print(x)"
      ],
      "execution_count": null,
      "outputs": [
        {
          "output_type": "stream",
          "text": [
            "[[ 1.44865163  0.59066829  0.05293319 ... -0.58936716 -0.04356873\n",
            "  -0.06633906]\n",
            " [ 1.44865163  0.59066829 -0.39130197 ... -0.27013618  0.08640684\n",
            "   0.08915105]\n",
            " [ 1.44865163  0.59066829 -0.44702926 ... -0.13753572  0.13323164\n",
            "   2.24329255]\n",
            " ...\n",
            " [ 1.44865163  0.59066829  0.20032554 ... -0.54337975  2.51121768\n",
            "   0.12145607]\n",
            " [-0.69029709  0.59066829 -0.13538389 ... -0.41944059 -0.56977032\n",
            "   0.21304614]\n",
            " [-0.69029709  0.59066829 -0.72930698 ... -0.62009417 -0.50488752\n",
            "  -0.52286938]]\n"
          ],
          "name": "stdout"
        }
      ]
    },
    {
      "cell_type": "code",
      "metadata": {
        "id": "OJYDgAXtaA4l"
      },
      "source": [
        "# 모형 불러오기\n",
        "from sklearn import cluster"
      ],
      "execution_count": null,
      "outputs": []
    },
    {
      "cell_type": "code",
      "metadata": {
        "colab": {
          "base_uri": "https://localhost:8080/"
        },
        "id": "s9nGrRvPgwcT",
        "outputId": "5fead731-ac85-4288-eb2a-393268cf95f6"
      },
      "source": [
        "kmeans = cluster.KMeans(init='k-means++',n_clusters=5,n_init=10)\n",
        "kmeans.fit(x)"
      ],
      "execution_count": null,
      "outputs": [
        {
          "output_type": "execute_result",
          "data": {
            "text/plain": [
              "KMeans(algorithm='auto', copy_x=True, init='k-means++', max_iter=300,\n",
              "       n_clusters=5, n_init=10, n_jobs=None, precompute_distances='auto',\n",
              "       random_state=None, tol=0.0001, verbose=0)"
            ]
          },
          "metadata": {
            "tags": []
          },
          "execution_count": 98
        }
      ]
    },
    {
      "cell_type": "code",
      "metadata": {
        "id": "56skH6QPhE8_"
      },
      "source": [
        "cluster_label = kmeans.labels_\n",
        "df['cluster'] = cluster_label"
      ],
      "execution_count": null,
      "outputs": []
    },
    {
      "cell_type": "code",
      "metadata": {
        "id": "RzyhU9idhb_x"
      },
      "source": [
        "# 시각화\n",
        "import matplotlib.pyplot as plt"
      ],
      "execution_count": null,
      "outputs": []
    },
    {
      "cell_type": "code",
      "metadata": {
        "colab": {
          "base_uri": "https://localhost:8080/",
          "height": 1000
        },
        "id": "fIGnZwCBh61w",
        "outputId": "739fb9c6-b76a-4b72-e012-e3ab60bd4f6d"
      },
      "source": [
        "df.plot(kind='scatter', x = 'Grocery', y = 'Frozen', c = 'Cluster', cmap = 'Set1',\n",
        "        colorbar=False, figsize=(10,10))\n",
        "df.plot(kind='scatter', x = 'Milk', y = 'Delicassen', c = 'Cluster', cmap = 'Set1',\n",
        "        colorbar=True, figsize=(10,10))\n",
        "\n",
        "plt.show()\n",
        "plt.close()"
      ],
      "execution_count": null,
      "outputs": [
        {
          "output_type": "error",
          "ename": "ValueError",
          "evalue": "ignored",
          "traceback": [
            "\u001b[0;31m---------------------------------------------------------------------------\u001b[0m",
            "\u001b[0;31mValueError\u001b[0m                                Traceback (most recent call last)",
            "\u001b[0;32m/usr/local/lib/python3.7/dist-packages/matplotlib/colors.py\u001b[0m in \u001b[0;36mto_rgba_array\u001b[0;34m(c, alpha)\u001b[0m\n\u001b[1;32m    324\u001b[0m         \u001b[0;32mtry\u001b[0m\u001b[0;34m:\u001b[0m\u001b[0;34m\u001b[0m\u001b[0;34m\u001b[0m\u001b[0m\n\u001b[0;32m--> 325\u001b[0;31m             \u001b[0mresult\u001b[0m \u001b[0;34m=\u001b[0m \u001b[0mnp\u001b[0m\u001b[0;34m.\u001b[0m\u001b[0marray\u001b[0m\u001b[0;34m(\u001b[0m\u001b[0;34m[\u001b[0m\u001b[0mto_rgba\u001b[0m\u001b[0;34m(\u001b[0m\u001b[0mcc\u001b[0m\u001b[0;34m,\u001b[0m \u001b[0malpha\u001b[0m\u001b[0;34m)\u001b[0m \u001b[0;32mfor\u001b[0m \u001b[0mcc\u001b[0m \u001b[0;32min\u001b[0m \u001b[0mc\u001b[0m\u001b[0;34m]\u001b[0m\u001b[0;34m)\u001b[0m\u001b[0;34m\u001b[0m\u001b[0;34m\u001b[0m\u001b[0m\n\u001b[0m\u001b[1;32m    326\u001b[0m         \u001b[0;32mexcept\u001b[0m \u001b[0mValueError\u001b[0m\u001b[0;34m:\u001b[0m\u001b[0;34m\u001b[0m\u001b[0;34m\u001b[0m\u001b[0m\n",
            "\u001b[0;32m/usr/local/lib/python3.7/dist-packages/matplotlib/colors.py\u001b[0m in \u001b[0;36m<listcomp>\u001b[0;34m(.0)\u001b[0m\n\u001b[1;32m    324\u001b[0m         \u001b[0;32mtry\u001b[0m\u001b[0;34m:\u001b[0m\u001b[0;34m\u001b[0m\u001b[0;34m\u001b[0m\u001b[0m\n\u001b[0;32m--> 325\u001b[0;31m             \u001b[0mresult\u001b[0m \u001b[0;34m=\u001b[0m \u001b[0mnp\u001b[0m\u001b[0;34m.\u001b[0m\u001b[0marray\u001b[0m\u001b[0;34m(\u001b[0m\u001b[0;34m[\u001b[0m\u001b[0mto_rgba\u001b[0m\u001b[0;34m(\u001b[0m\u001b[0mcc\u001b[0m\u001b[0;34m,\u001b[0m \u001b[0malpha\u001b[0m\u001b[0;34m)\u001b[0m \u001b[0;32mfor\u001b[0m \u001b[0mcc\u001b[0m \u001b[0;32min\u001b[0m \u001b[0mc\u001b[0m\u001b[0;34m]\u001b[0m\u001b[0;34m)\u001b[0m\u001b[0;34m\u001b[0m\u001b[0;34m\u001b[0m\u001b[0m\n\u001b[0m\u001b[1;32m    326\u001b[0m         \u001b[0;32mexcept\u001b[0m \u001b[0mValueError\u001b[0m\u001b[0;34m:\u001b[0m\u001b[0;34m\u001b[0m\u001b[0;34m\u001b[0m\u001b[0m\n",
            "\u001b[0;32m/usr/local/lib/python3.7/dist-packages/matplotlib/colors.py\u001b[0m in \u001b[0;36mto_rgba\u001b[0;34m(c, alpha)\u001b[0m\n\u001b[1;32m    184\u001b[0m     \u001b[0;32mif\u001b[0m \u001b[0mrgba\u001b[0m \u001b[0;32mis\u001b[0m \u001b[0;32mNone\u001b[0m\u001b[0;34m:\u001b[0m  \u001b[0;31m# Suppress exception chaining of cache lookup failure.\u001b[0m\u001b[0;34m\u001b[0m\u001b[0;34m\u001b[0m\u001b[0m\n\u001b[0;32m--> 185\u001b[0;31m         \u001b[0mrgba\u001b[0m \u001b[0;34m=\u001b[0m \u001b[0m_to_rgba_no_colorcycle\u001b[0m\u001b[0;34m(\u001b[0m\u001b[0mc\u001b[0m\u001b[0;34m,\u001b[0m \u001b[0malpha\u001b[0m\u001b[0;34m)\u001b[0m\u001b[0;34m\u001b[0m\u001b[0;34m\u001b[0m\u001b[0m\n\u001b[0m\u001b[1;32m    186\u001b[0m         \u001b[0;32mtry\u001b[0m\u001b[0;34m:\u001b[0m\u001b[0;34m\u001b[0m\u001b[0;34m\u001b[0m\u001b[0m\n",
            "\u001b[0;32m/usr/local/lib/python3.7/dist-packages/matplotlib/colors.py\u001b[0m in \u001b[0;36m_to_rgba_no_colorcycle\u001b[0;34m(c, alpha)\u001b[0m\n\u001b[1;32m    260\u001b[0m             \u001b[0;32mreturn\u001b[0m \u001b[0mc\u001b[0m\u001b[0;34m,\u001b[0m \u001b[0mc\u001b[0m\u001b[0;34m,\u001b[0m \u001b[0mc\u001b[0m\u001b[0;34m,\u001b[0m \u001b[0malpha\u001b[0m \u001b[0;32mif\u001b[0m \u001b[0malpha\u001b[0m \u001b[0;32mis\u001b[0m \u001b[0;32mnot\u001b[0m \u001b[0;32mNone\u001b[0m \u001b[0;32melse\u001b[0m \u001b[0;36m1.\u001b[0m\u001b[0;34m\u001b[0m\u001b[0;34m\u001b[0m\u001b[0m\n\u001b[0;32m--> 261\u001b[0;31m         \u001b[0;32mraise\u001b[0m \u001b[0mValueError\u001b[0m\u001b[0;34m(\u001b[0m\u001b[0;34mf\"Invalid RGBA argument: {orig_c!r}\"\u001b[0m\u001b[0;34m)\u001b[0m\u001b[0;34m\u001b[0m\u001b[0;34m\u001b[0m\u001b[0m\n\u001b[0m\u001b[1;32m    262\u001b[0m     \u001b[0;31m# tuple color.\u001b[0m\u001b[0;34m\u001b[0m\u001b[0;34m\u001b[0m\u001b[0;34m\u001b[0m\u001b[0m\n",
            "\u001b[0;31mValueError\u001b[0m: Invalid RGBA argument: 'l'",
            "\nDuring handling of the above exception, another exception occurred:\n",
            "\u001b[0;31mValueError\u001b[0m                                Traceback (most recent call last)",
            "\u001b[0;32m/usr/local/lib/python3.7/dist-packages/matplotlib/axes/_axes.py\u001b[0m in \u001b[0;36m_parse_scatter_color_args\u001b[0;34m(c, edgecolors, kwargs, xsize, get_next_color_func)\u001b[0m\n\u001b[1;32m   4238\u001b[0m             \u001b[0;32mtry\u001b[0m\u001b[0;34m:\u001b[0m  \u001b[0;31m# Is 'c' acceptable as PathCollection facecolors?\u001b[0m\u001b[0;34m\u001b[0m\u001b[0;34m\u001b[0m\u001b[0m\n\u001b[0;32m-> 4239\u001b[0;31m                 \u001b[0mcolors\u001b[0m \u001b[0;34m=\u001b[0m \u001b[0mmcolors\u001b[0m\u001b[0;34m.\u001b[0m\u001b[0mto_rgba_array\u001b[0m\u001b[0;34m(\u001b[0m\u001b[0mc\u001b[0m\u001b[0;34m)\u001b[0m\u001b[0;34m\u001b[0m\u001b[0;34m\u001b[0m\u001b[0m\n\u001b[0m\u001b[1;32m   4240\u001b[0m             \u001b[0;32mexcept\u001b[0m \u001b[0mValueError\u001b[0m\u001b[0;34m:\u001b[0m\u001b[0;34m\u001b[0m\u001b[0;34m\u001b[0m\u001b[0m\n",
            "\u001b[0;32m/usr/local/lib/python3.7/dist-packages/matplotlib/colors.py\u001b[0m in \u001b[0;36mto_rgba_array\u001b[0;34m(c, alpha)\u001b[0m\n\u001b[1;32m    329\u001b[0m                 \u001b[0;34m\"consisting of single character color specifiers such as \"\u001b[0m\u001b[0;34m\u001b[0m\u001b[0;34m\u001b[0m\u001b[0m\n\u001b[0;32m--> 330\u001b[0;31m                 \"'rgb'. Note also that the latter is deprecated.\" % c)\n\u001b[0m\u001b[1;32m    331\u001b[0m         \u001b[0;32melse\u001b[0m\u001b[0;34m:\u001b[0m\u001b[0;34m\u001b[0m\u001b[0;34m\u001b[0m\u001b[0m\n",
            "\u001b[0;31mValueError\u001b[0m: 'Cluster' is neither a valid single color nor a color sequence consisting of single character color specifiers such as 'rgb'. Note also that the latter is deprecated.",
            "\nDuring handling of the above exception, another exception occurred:\n",
            "\u001b[0;31mValueError\u001b[0m                                Traceback (most recent call last)",
            "\u001b[0;32m<ipython-input-104-a8515129aef5>\u001b[0m in \u001b[0;36m<module>\u001b[0;34m()\u001b[0m\n\u001b[1;32m      1\u001b[0m df.plot(kind='scatter', x = 'Grocery', y = 'Frozen', c = 'Cluster', cmap = 'Set1',\n\u001b[0;32m----> 2\u001b[0;31m         colorbar=False, figsize=(10,10))\n\u001b[0m\u001b[1;32m      3\u001b[0m df.plot(kind='scatter', x = 'Milk', y = 'Delicassen', c = 'Cluster', cmap = 'Set1',\n\u001b[1;32m      4\u001b[0m         colorbar=True, figsize=(10,10))\n\u001b[1;32m      5\u001b[0m \u001b[0;34m\u001b[0m\u001b[0m\n",
            "\u001b[0;32m/usr/local/lib/python3.7/dist-packages/pandas/plotting/_core.py\u001b[0m in \u001b[0;36m__call__\u001b[0;34m(self, *args, **kwargs)\u001b[0m\n\u001b[1;32m    892\u001b[0m         \u001b[0;32mif\u001b[0m \u001b[0mkind\u001b[0m \u001b[0;32min\u001b[0m \u001b[0mself\u001b[0m\u001b[0;34m.\u001b[0m\u001b[0m_dataframe_kinds\u001b[0m\u001b[0;34m:\u001b[0m\u001b[0;34m\u001b[0m\u001b[0;34m\u001b[0m\u001b[0m\n\u001b[1;32m    893\u001b[0m             \u001b[0;32mif\u001b[0m \u001b[0misinstance\u001b[0m\u001b[0;34m(\u001b[0m\u001b[0mdata\u001b[0m\u001b[0;34m,\u001b[0m \u001b[0mABCDataFrame\u001b[0m\u001b[0;34m)\u001b[0m\u001b[0;34m:\u001b[0m\u001b[0;34m\u001b[0m\u001b[0;34m\u001b[0m\u001b[0m\n\u001b[0;32m--> 894\u001b[0;31m                 \u001b[0;32mreturn\u001b[0m \u001b[0mplot_backend\u001b[0m\u001b[0;34m.\u001b[0m\u001b[0mplot\u001b[0m\u001b[0;34m(\u001b[0m\u001b[0mdata\u001b[0m\u001b[0;34m,\u001b[0m \u001b[0mx\u001b[0m\u001b[0;34m=\u001b[0m\u001b[0mx\u001b[0m\u001b[0;34m,\u001b[0m \u001b[0my\u001b[0m\u001b[0;34m=\u001b[0m\u001b[0my\u001b[0m\u001b[0;34m,\u001b[0m \u001b[0mkind\u001b[0m\u001b[0;34m=\u001b[0m\u001b[0mkind\u001b[0m\u001b[0;34m,\u001b[0m \u001b[0;34m**\u001b[0m\u001b[0mkwargs\u001b[0m\u001b[0;34m)\u001b[0m\u001b[0;34m\u001b[0m\u001b[0;34m\u001b[0m\u001b[0m\n\u001b[0m\u001b[1;32m    895\u001b[0m             \u001b[0;32melse\u001b[0m\u001b[0;34m:\u001b[0m\u001b[0;34m\u001b[0m\u001b[0;34m\u001b[0m\u001b[0m\n\u001b[1;32m    896\u001b[0m                 \u001b[0;32mraise\u001b[0m \u001b[0mValueError\u001b[0m\u001b[0;34m(\u001b[0m\u001b[0;34mf\"plot kind {kind} can only be used for data frames\"\u001b[0m\u001b[0;34m)\u001b[0m\u001b[0;34m\u001b[0m\u001b[0;34m\u001b[0m\u001b[0m\n",
            "\u001b[0;32m/usr/local/lib/python3.7/dist-packages/pandas/plotting/_matplotlib/__init__.py\u001b[0m in \u001b[0;36mplot\u001b[0;34m(data, kind, **kwargs)\u001b[0m\n\u001b[1;32m     59\u001b[0m             \u001b[0mkwargs\u001b[0m\u001b[0;34m[\u001b[0m\u001b[0;34m\"ax\"\u001b[0m\u001b[0;34m]\u001b[0m \u001b[0;34m=\u001b[0m \u001b[0mgetattr\u001b[0m\u001b[0;34m(\u001b[0m\u001b[0max\u001b[0m\u001b[0;34m,\u001b[0m \u001b[0;34m\"left_ax\"\u001b[0m\u001b[0;34m,\u001b[0m \u001b[0max\u001b[0m\u001b[0;34m)\u001b[0m\u001b[0;34m\u001b[0m\u001b[0;34m\u001b[0m\u001b[0m\n\u001b[1;32m     60\u001b[0m     \u001b[0mplot_obj\u001b[0m \u001b[0;34m=\u001b[0m \u001b[0mPLOT_CLASSES\u001b[0m\u001b[0;34m[\u001b[0m\u001b[0mkind\u001b[0m\u001b[0;34m]\u001b[0m\u001b[0;34m(\u001b[0m\u001b[0mdata\u001b[0m\u001b[0;34m,\u001b[0m \u001b[0;34m**\u001b[0m\u001b[0mkwargs\u001b[0m\u001b[0;34m)\u001b[0m\u001b[0;34m\u001b[0m\u001b[0;34m\u001b[0m\u001b[0m\n\u001b[0;32m---> 61\u001b[0;31m     \u001b[0mplot_obj\u001b[0m\u001b[0;34m.\u001b[0m\u001b[0mgenerate\u001b[0m\u001b[0;34m(\u001b[0m\u001b[0;34m)\u001b[0m\u001b[0;34m\u001b[0m\u001b[0;34m\u001b[0m\u001b[0m\n\u001b[0m\u001b[1;32m     62\u001b[0m     \u001b[0mplot_obj\u001b[0m\u001b[0;34m.\u001b[0m\u001b[0mdraw\u001b[0m\u001b[0;34m(\u001b[0m\u001b[0;34m)\u001b[0m\u001b[0;34m\u001b[0m\u001b[0;34m\u001b[0m\u001b[0m\n\u001b[1;32m     63\u001b[0m     \u001b[0;32mreturn\u001b[0m \u001b[0mplot_obj\u001b[0m\u001b[0;34m.\u001b[0m\u001b[0mresult\u001b[0m\u001b[0;34m\u001b[0m\u001b[0;34m\u001b[0m\u001b[0m\n",
            "\u001b[0;32m/usr/local/lib/python3.7/dist-packages/pandas/plotting/_matplotlib/core.py\u001b[0m in \u001b[0;36mgenerate\u001b[0;34m(self)\u001b[0m\n\u001b[1;32m    269\u001b[0m         \u001b[0mself\u001b[0m\u001b[0;34m.\u001b[0m\u001b[0m_compute_plot_data\u001b[0m\u001b[0;34m(\u001b[0m\u001b[0;34m)\u001b[0m\u001b[0;34m\u001b[0m\u001b[0;34m\u001b[0m\u001b[0m\n\u001b[1;32m    270\u001b[0m         \u001b[0mself\u001b[0m\u001b[0;34m.\u001b[0m\u001b[0m_setup_subplots\u001b[0m\u001b[0;34m(\u001b[0m\u001b[0;34m)\u001b[0m\u001b[0;34m\u001b[0m\u001b[0;34m\u001b[0m\u001b[0m\n\u001b[0;32m--> 271\u001b[0;31m         \u001b[0mself\u001b[0m\u001b[0;34m.\u001b[0m\u001b[0m_make_plot\u001b[0m\u001b[0;34m(\u001b[0m\u001b[0;34m)\u001b[0m\u001b[0;34m\u001b[0m\u001b[0;34m\u001b[0m\u001b[0m\n\u001b[0m\u001b[1;32m    272\u001b[0m         \u001b[0mself\u001b[0m\u001b[0;34m.\u001b[0m\u001b[0m_add_table\u001b[0m\u001b[0;34m(\u001b[0m\u001b[0;34m)\u001b[0m\u001b[0;34m\u001b[0m\u001b[0;34m\u001b[0m\u001b[0m\n\u001b[1;32m    273\u001b[0m         \u001b[0mself\u001b[0m\u001b[0;34m.\u001b[0m\u001b[0m_make_legend\u001b[0m\u001b[0;34m(\u001b[0m\u001b[0;34m)\u001b[0m\u001b[0;34m\u001b[0m\u001b[0;34m\u001b[0m\u001b[0m\n",
            "\u001b[0;32m/usr/local/lib/python3.7/dist-packages/pandas/plotting/_matplotlib/core.py\u001b[0m in \u001b[0;36m_make_plot\u001b[0;34m(self)\u001b[0m\n\u001b[1;32m   1014\u001b[0m             \u001b[0mlabel\u001b[0m\u001b[0;34m=\u001b[0m\u001b[0mlabel\u001b[0m\u001b[0;34m,\u001b[0m\u001b[0;34m\u001b[0m\u001b[0;34m\u001b[0m\u001b[0m\n\u001b[1;32m   1015\u001b[0m             \u001b[0mcmap\u001b[0m\u001b[0;34m=\u001b[0m\u001b[0mcmap\u001b[0m\u001b[0;34m,\u001b[0m\u001b[0;34m\u001b[0m\u001b[0;34m\u001b[0m\u001b[0m\n\u001b[0;32m-> 1016\u001b[0;31m             \u001b[0;34m**\u001b[0m\u001b[0mself\u001b[0m\u001b[0;34m.\u001b[0m\u001b[0mkwds\u001b[0m\u001b[0;34m,\u001b[0m\u001b[0;34m\u001b[0m\u001b[0;34m\u001b[0m\u001b[0m\n\u001b[0m\u001b[1;32m   1017\u001b[0m         )\n\u001b[1;32m   1018\u001b[0m         \u001b[0;32mif\u001b[0m \u001b[0mcb\u001b[0m\u001b[0;34m:\u001b[0m\u001b[0;34m\u001b[0m\u001b[0;34m\u001b[0m\u001b[0m\n",
            "\u001b[0;32m/usr/local/lib/python3.7/dist-packages/matplotlib/__init__.py\u001b[0m in \u001b[0;36minner\u001b[0;34m(ax, data, *args, **kwargs)\u001b[0m\n\u001b[1;32m   1563\u001b[0m     \u001b[0;32mdef\u001b[0m \u001b[0minner\u001b[0m\u001b[0;34m(\u001b[0m\u001b[0max\u001b[0m\u001b[0;34m,\u001b[0m \u001b[0;34m*\u001b[0m\u001b[0margs\u001b[0m\u001b[0;34m,\u001b[0m \u001b[0mdata\u001b[0m\u001b[0;34m=\u001b[0m\u001b[0;32mNone\u001b[0m\u001b[0;34m,\u001b[0m \u001b[0;34m**\u001b[0m\u001b[0mkwargs\u001b[0m\u001b[0;34m)\u001b[0m\u001b[0;34m:\u001b[0m\u001b[0;34m\u001b[0m\u001b[0;34m\u001b[0m\u001b[0m\n\u001b[1;32m   1564\u001b[0m         \u001b[0;32mif\u001b[0m \u001b[0mdata\u001b[0m \u001b[0;32mis\u001b[0m \u001b[0;32mNone\u001b[0m\u001b[0;34m:\u001b[0m\u001b[0;34m\u001b[0m\u001b[0;34m\u001b[0m\u001b[0m\n\u001b[0;32m-> 1565\u001b[0;31m             \u001b[0;32mreturn\u001b[0m \u001b[0mfunc\u001b[0m\u001b[0;34m(\u001b[0m\u001b[0max\u001b[0m\u001b[0;34m,\u001b[0m \u001b[0;34m*\u001b[0m\u001b[0mmap\u001b[0m\u001b[0;34m(\u001b[0m\u001b[0msanitize_sequence\u001b[0m\u001b[0;34m,\u001b[0m \u001b[0margs\u001b[0m\u001b[0;34m)\u001b[0m\u001b[0;34m,\u001b[0m \u001b[0;34m**\u001b[0m\u001b[0mkwargs\u001b[0m\u001b[0;34m)\u001b[0m\u001b[0;34m\u001b[0m\u001b[0;34m\u001b[0m\u001b[0m\n\u001b[0m\u001b[1;32m   1566\u001b[0m \u001b[0;34m\u001b[0m\u001b[0m\n\u001b[1;32m   1567\u001b[0m         \u001b[0mbound\u001b[0m \u001b[0;34m=\u001b[0m \u001b[0mnew_sig\u001b[0m\u001b[0;34m.\u001b[0m\u001b[0mbind\u001b[0m\u001b[0;34m(\u001b[0m\u001b[0max\u001b[0m\u001b[0;34m,\u001b[0m \u001b[0;34m*\u001b[0m\u001b[0margs\u001b[0m\u001b[0;34m,\u001b[0m \u001b[0;34m**\u001b[0m\u001b[0mkwargs\u001b[0m\u001b[0;34m)\u001b[0m\u001b[0;34m\u001b[0m\u001b[0;34m\u001b[0m\u001b[0m\n",
            "\u001b[0;32m/usr/local/lib/python3.7/dist-packages/matplotlib/cbook/deprecation.py\u001b[0m in \u001b[0;36mwrapper\u001b[0;34m(*args, **kwargs)\u001b[0m\n\u001b[1;32m    356\u001b[0m                 \u001b[0;34mf\"%(removal)s.  If any parameter follows {name!r}, they \"\u001b[0m\u001b[0;34m\u001b[0m\u001b[0;34m\u001b[0m\u001b[0m\n\u001b[1;32m    357\u001b[0m                 f\"should be pass as keyword, not positionally.\")\n\u001b[0;32m--> 358\u001b[0;31m         \u001b[0;32mreturn\u001b[0m \u001b[0mfunc\u001b[0m\u001b[0;34m(\u001b[0m\u001b[0;34m*\u001b[0m\u001b[0margs\u001b[0m\u001b[0;34m,\u001b[0m \u001b[0;34m**\u001b[0m\u001b[0mkwargs\u001b[0m\u001b[0;34m)\u001b[0m\u001b[0;34m\u001b[0m\u001b[0;34m\u001b[0m\u001b[0m\n\u001b[0m\u001b[1;32m    359\u001b[0m \u001b[0;34m\u001b[0m\u001b[0m\n\u001b[1;32m    360\u001b[0m     \u001b[0;32mreturn\u001b[0m \u001b[0mwrapper\u001b[0m\u001b[0;34m\u001b[0m\u001b[0;34m\u001b[0m\u001b[0m\n",
            "\u001b[0;32m/usr/local/lib/python3.7/dist-packages/matplotlib/axes/_axes.py\u001b[0m in \u001b[0;36mscatter\u001b[0;34m(self, x, y, s, c, marker, cmap, norm, vmin, vmax, alpha, linewidths, verts, edgecolors, plotnonfinite, **kwargs)\u001b[0m\n\u001b[1;32m   4401\u001b[0m             self._parse_scatter_color_args(\n\u001b[1;32m   4402\u001b[0m                 \u001b[0mc\u001b[0m\u001b[0;34m,\u001b[0m \u001b[0medgecolors\u001b[0m\u001b[0;34m,\u001b[0m \u001b[0mkwargs\u001b[0m\u001b[0;34m,\u001b[0m \u001b[0mx\u001b[0m\u001b[0;34m.\u001b[0m\u001b[0msize\u001b[0m\u001b[0;34m,\u001b[0m\u001b[0;34m\u001b[0m\u001b[0;34m\u001b[0m\u001b[0m\n\u001b[0;32m-> 4403\u001b[0;31m                 get_next_color_func=self._get_patches_for_fill.get_next_color)\n\u001b[0m\u001b[1;32m   4404\u001b[0m \u001b[0;34m\u001b[0m\u001b[0m\n\u001b[1;32m   4405\u001b[0m         \u001b[0;32mif\u001b[0m \u001b[0mplotnonfinite\u001b[0m \u001b[0;32mand\u001b[0m \u001b[0mcolors\u001b[0m \u001b[0;32mis\u001b[0m \u001b[0;32mNone\u001b[0m\u001b[0;34m:\u001b[0m\u001b[0;34m\u001b[0m\u001b[0;34m\u001b[0m\u001b[0m\n",
            "\u001b[0;32m/usr/local/lib/python3.7/dist-packages/matplotlib/axes/_axes.py\u001b[0m in \u001b[0;36m_parse_scatter_color_args\u001b[0;34m(c, edgecolors, kwargs, xsize, get_next_color_func)\u001b[0m\n\u001b[1;32m   4244\u001b[0m                 \u001b[0;31m# severe failure => one may appreciate a verbose feedback.\u001b[0m\u001b[0;34m\u001b[0m\u001b[0;34m\u001b[0m\u001b[0;34m\u001b[0m\u001b[0m\n\u001b[1;32m   4245\u001b[0m                 raise ValueError(\n\u001b[0;32m-> 4246\u001b[0;31m                     \u001b[0;34mf\"'c' argument must be a color, a sequence of colors, or \"\u001b[0m\u001b[0;34m\u001b[0m\u001b[0;34m\u001b[0m\u001b[0m\n\u001b[0m\u001b[1;32m   4247\u001b[0m                     f\"a sequence of numbers, not {c}\")\n\u001b[1;32m   4248\u001b[0m             \u001b[0;32melse\u001b[0m\u001b[0;34m:\u001b[0m\u001b[0;34m\u001b[0m\u001b[0;34m\u001b[0m\u001b[0m\n",
            "\u001b[0;31mValueError\u001b[0m: 'c' argument must be a color, a sequence of colors, or a sequence of numbers, not Cluster"
          ]
        },
        {
          "output_type": "display_data",
          "data": {
            "image/png": "[encoded data removed]",
            "text/plain": [
              "<Figure size 720x720 with 1 Axes>"
            ]
          },
          "metadata": {
            "tags": [],
            "needs_background": "light"
          }
        }
      ]
    },
    {
      "cell_type": "code",
      "metadata": {
        "id": "vRhSGOKbigMf"
      },
      "source": [
        ""
      ],
      "execution_count": null,
      "outputs": []
    },
    {
      "cell_type": "code",
      "metadata": {
        "id": "8SKPFVP-aR3T"
      },
      "source": [
        "a = 100\n",
        "re = 0\n",
        "for i in range(1,3):\n",
        "  re = a >> i\n",
        "  re = re + i\n",
        "print(re)\n"
      ],
      "execution_count": null,
      "outputs": []
    },
    {
      "cell_type": "code",
      "metadata": {
        "id": "K6JWOvL7ai4J"
      },
      "source": [
        ""
      ],
      "execution_count": null,
      "outputs": []
    }
  ]
}